{
 "cells": [
  {
   "cell_type": "markdown",
   "id": "cf3b09cc",
   "metadata": {},
   "source": [
    "# Análisis exploratorio de las canciones de Spotify más escuchadas del 2024 "
   ]
  },
  {
   "cell_type": "code",
   "execution_count": 1,
   "id": "fa8aeee5",
   "metadata": {},
   "outputs": [],
   "source": [
    "# Importar las librerías necesarias\n",
    "import pandas as pd\n",
    "import plotly.express as px\n",
    "\n"
   ]
  },
  {
   "cell_type": "code",
   "execution_count": 2,
   "id": "bf6cb3b6",
   "metadata": {},
   "outputs": [],
   "source": [
    "# Inicializar el dataframe\n",
    "df = pd.read_csv(r\"../data/songs_2024.csv\", encoding='ISO-8859-1')"
   ]
  },
  {
   "cell_type": "markdown",
   "id": "28c18ada",
   "metadata": {},
   "source": [
    "## Análisis del dataframe\n"
   ]
  },
  {
   "cell_type": "code",
   "execution_count": 3,
   "id": "89297132",
   "metadata": {},
   "outputs": [
    {
     "name": "stdout",
     "output_type": "stream",
     "text": [
      "<class 'pandas.core.frame.DataFrame'>\n",
      "RangeIndex: 4600 entries, 0 to 4599\n",
      "Data columns (total 29 columns):\n",
      " #   Column                      Non-Null Count  Dtype  \n",
      "---  ------                      --------------  -----  \n",
      " 0   Track                       4600 non-null   object \n",
      " 1   Album Name                  4600 non-null   object \n",
      " 2   Artist                      4595 non-null   object \n",
      " 3   Release Date                4600 non-null   object \n",
      " 4   ISRC                        4600 non-null   object \n",
      " 5   All Time Rank               4600 non-null   object \n",
      " 6   Track Score                 4600 non-null   float64\n",
      " 7   Spotify Streams             4487 non-null   object \n",
      " 8   Spotify Playlist Count      4530 non-null   object \n",
      " 9   Spotify Playlist Reach      4528 non-null   object \n",
      " 10  Spotify Popularity          3796 non-null   float64\n",
      " 11  YouTube Views               4292 non-null   object \n",
      " 12  YouTube Likes               4285 non-null   object \n",
      " 13  TikTok Posts                3427 non-null   object \n",
      " 14  TikTok Likes                3620 non-null   object \n",
      " 15  TikTok Views                3619 non-null   object \n",
      " 16  YouTube Playlist Reach      3591 non-null   object \n",
      " 17  Apple Music Playlist Count  4039 non-null   float64\n",
      " 18  AirPlay Spins               4102 non-null   object \n",
      " 19  SiriusXM Spins              2477 non-null   object \n",
      " 20  Deezer Playlist Count       3679 non-null   float64\n",
      " 21  Deezer Playlist Reach       3672 non-null   object \n",
      " 22  Amazon Playlist Count       3545 non-null   float64\n",
      " 23  Pandora Streams             3494 non-null   object \n",
      " 24  Pandora Track Stations      3332 non-null   object \n",
      " 25  Soundcloud Streams          1267 non-null   object \n",
      " 26  Shazam Counts               4023 non-null   object \n",
      " 27  TIDAL Popularity            0 non-null      float64\n",
      " 28  Explicit Track              4600 non-null   int64  \n",
      "dtypes: float64(6), int64(1), object(22)\n",
      "memory usage: 1.0+ MB\n"
     ]
    }
   ],
   "source": [
    "# Revisar información general del dataframe\n",
    "df.info()\n"
   ]
  },
  {
   "cell_type": "code",
   "execution_count": 4,
   "id": "1309ee6f",
   "metadata": {},
   "outputs": [
    {
     "data": {
      "text/html": [
       "<div>\n",
       "<style scoped>\n",
       "    .dataframe tbody tr th:only-of-type {\n",
       "        vertical-align: middle;\n",
       "    }\n",
       "\n",
       "    .dataframe tbody tr th {\n",
       "        vertical-align: top;\n",
       "    }\n",
       "\n",
       "    .dataframe thead th {\n",
       "        text-align: right;\n",
       "    }\n",
       "</style>\n",
       "<table border=\"1\" class=\"dataframe\">\n",
       "  <thead>\n",
       "    <tr style=\"text-align: right;\">\n",
       "      <th></th>\n",
       "      <th>Track</th>\n",
       "      <th>Album Name</th>\n",
       "      <th>Artist</th>\n",
       "      <th>Release Date</th>\n",
       "      <th>ISRC</th>\n",
       "      <th>All Time Rank</th>\n",
       "      <th>Track Score</th>\n",
       "      <th>Spotify Streams</th>\n",
       "      <th>Spotify Playlist Count</th>\n",
       "      <th>Spotify Playlist Reach</th>\n",
       "      <th>Spotify Popularity</th>\n",
       "      <th>YouTube Views</th>\n",
       "      <th>YouTube Likes</th>\n",
       "      <th>TikTok Posts</th>\n",
       "      <th>TikTok Likes</th>\n",
       "      <th>TikTok Views</th>\n",
       "      <th>YouTube Playlist Reach</th>\n",
       "      <th>Apple Music Playlist Count</th>\n",
       "      <th>AirPlay Spins</th>\n",
       "      <th>SiriusXM Spins</th>\n",
       "      <th>Deezer Playlist Count</th>\n",
       "      <th>Deezer Playlist Reach</th>\n",
       "      <th>Amazon Playlist Count</th>\n",
       "      <th>Pandora Streams</th>\n",
       "      <th>Pandora Track Stations</th>\n",
       "      <th>Soundcloud Streams</th>\n",
       "      <th>Shazam Counts</th>\n",
       "      <th>TIDAL Popularity</th>\n",
       "      <th>Explicit Track</th>\n",
       "    </tr>\n",
       "  </thead>\n",
       "  <tbody>\n",
       "    <tr>\n",
       "      <th>0</th>\n",
       "      <td>MILLION DOLLAR BABY</td>\n",
       "      <td>Million Dollar Baby - Single</td>\n",
       "      <td>Tommy Richman</td>\n",
       "      <td>4/26/2024</td>\n",
       "      <td>QM24S2402528</td>\n",
       "      <td>1</td>\n",
       "      <td>725.4</td>\n",
       "      <td>390,470,936</td>\n",
       "      <td>30,716</td>\n",
       "      <td>196,631,588</td>\n",
       "      <td>92.0</td>\n",
       "      <td>84,274,754</td>\n",
       "      <td>1,713,126</td>\n",
       "      <td>5,767,700</td>\n",
       "      <td>651,565,900</td>\n",
       "      <td>5,332,281,936</td>\n",
       "      <td>150,597,040</td>\n",
       "      <td>210.0</td>\n",
       "      <td>40,975</td>\n",
       "      <td>684</td>\n",
       "      <td>62.0</td>\n",
       "      <td>17,598,718</td>\n",
       "      <td>114.0</td>\n",
       "      <td>18,004,655</td>\n",
       "      <td>22,931</td>\n",
       "      <td>4,818,457</td>\n",
       "      <td>2,669,262</td>\n",
       "      <td>NaN</td>\n",
       "      <td>0</td>\n",
       "    </tr>\n",
       "    <tr>\n",
       "      <th>1</th>\n",
       "      <td>Not Like Us</td>\n",
       "      <td>Not Like Us</td>\n",
       "      <td>Kendrick Lamar</td>\n",
       "      <td>5/4/2024</td>\n",
       "      <td>USUG12400910</td>\n",
       "      <td>2</td>\n",
       "      <td>545.9</td>\n",
       "      <td>323,703,884</td>\n",
       "      <td>28,113</td>\n",
       "      <td>174,597,137</td>\n",
       "      <td>92.0</td>\n",
       "      <td>116,347,040</td>\n",
       "      <td>3,486,739</td>\n",
       "      <td>674,700</td>\n",
       "      <td>35,223,547</td>\n",
       "      <td>208,339,025</td>\n",
       "      <td>156,380,351</td>\n",
       "      <td>188.0</td>\n",
       "      <td>40,778</td>\n",
       "      <td>3</td>\n",
       "      <td>67.0</td>\n",
       "      <td>10,422,430</td>\n",
       "      <td>111.0</td>\n",
       "      <td>7,780,028</td>\n",
       "      <td>28,444</td>\n",
       "      <td>6,623,075</td>\n",
       "      <td>1,118,279</td>\n",
       "      <td>NaN</td>\n",
       "      <td>1</td>\n",
       "    </tr>\n",
       "    <tr>\n",
       "      <th>2</th>\n",
       "      <td>i like the way you kiss me</td>\n",
       "      <td>I like the way you kiss me</td>\n",
       "      <td>Artemas</td>\n",
       "      <td>3/19/2024</td>\n",
       "      <td>QZJ842400387</td>\n",
       "      <td>3</td>\n",
       "      <td>538.4</td>\n",
       "      <td>601,309,283</td>\n",
       "      <td>54,331</td>\n",
       "      <td>211,607,669</td>\n",
       "      <td>92.0</td>\n",
       "      <td>122,599,116</td>\n",
       "      <td>2,228,730</td>\n",
       "      <td>3,025,400</td>\n",
       "      <td>275,154,237</td>\n",
       "      <td>3,369,120,610</td>\n",
       "      <td>373,784,955</td>\n",
       "      <td>190.0</td>\n",
       "      <td>74,333</td>\n",
       "      <td>536</td>\n",
       "      <td>136.0</td>\n",
       "      <td>36,321,847</td>\n",
       "      <td>172.0</td>\n",
       "      <td>5,022,621</td>\n",
       "      <td>5,639</td>\n",
       "      <td>7,208,651</td>\n",
       "      <td>5,285,340</td>\n",
       "      <td>NaN</td>\n",
       "      <td>0</td>\n",
       "    </tr>\n",
       "    <tr>\n",
       "      <th>3</th>\n",
       "      <td>Flowers</td>\n",
       "      <td>Flowers - Single</td>\n",
       "      <td>Miley Cyrus</td>\n",
       "      <td>1/12/2023</td>\n",
       "      <td>USSM12209777</td>\n",
       "      <td>4</td>\n",
       "      <td>444.9</td>\n",
       "      <td>2,031,280,633</td>\n",
       "      <td>269,802</td>\n",
       "      <td>136,569,078</td>\n",
       "      <td>85.0</td>\n",
       "      <td>1,096,100,899</td>\n",
       "      <td>10,629,796</td>\n",
       "      <td>7,189,811</td>\n",
       "      <td>1,078,757,968</td>\n",
       "      <td>14,603,725,994</td>\n",
       "      <td>3,351,188,582</td>\n",
       "      <td>394.0</td>\n",
       "      <td>1,474,799</td>\n",
       "      <td>2,182</td>\n",
       "      <td>264.0</td>\n",
       "      <td>24,684,248</td>\n",
       "      <td>210.0</td>\n",
       "      <td>190,260,277</td>\n",
       "      <td>203,384</td>\n",
       "      <td>NaN</td>\n",
       "      <td>11,822,942</td>\n",
       "      <td>NaN</td>\n",
       "      <td>0</td>\n",
       "    </tr>\n",
       "    <tr>\n",
       "      <th>4</th>\n",
       "      <td>Houdini</td>\n",
       "      <td>Houdini</td>\n",
       "      <td>Eminem</td>\n",
       "      <td>5/31/2024</td>\n",
       "      <td>USUG12403398</td>\n",
       "      <td>5</td>\n",
       "      <td>423.3</td>\n",
       "      <td>107,034,922</td>\n",
       "      <td>7,223</td>\n",
       "      <td>151,469,874</td>\n",
       "      <td>88.0</td>\n",
       "      <td>77,373,957</td>\n",
       "      <td>3,670,188</td>\n",
       "      <td>16,400</td>\n",
       "      <td>NaN</td>\n",
       "      <td>NaN</td>\n",
       "      <td>112,763,851</td>\n",
       "      <td>182.0</td>\n",
       "      <td>12,185</td>\n",
       "      <td>1</td>\n",
       "      <td>82.0</td>\n",
       "      <td>17,660,624</td>\n",
       "      <td>105.0</td>\n",
       "      <td>4,493,884</td>\n",
       "      <td>7,006</td>\n",
       "      <td>207,179</td>\n",
       "      <td>457,017</td>\n",
       "      <td>NaN</td>\n",
       "      <td>1</td>\n",
       "    </tr>\n",
       "  </tbody>\n",
       "</table>\n",
       "</div>"
      ],
      "text/plain": [
       "                        Track                    Album Name          Artist  \\\n",
       "0         MILLION DOLLAR BABY  Million Dollar Baby - Single   Tommy Richman   \n",
       "1                 Not Like Us                   Not Like Us  Kendrick Lamar   \n",
       "2  i like the way you kiss me    I like the way you kiss me         Artemas   \n",
       "3                     Flowers              Flowers - Single     Miley Cyrus   \n",
       "4                     Houdini                       Houdini          Eminem   \n",
       "\n",
       "  Release Date          ISRC All Time Rank  Track Score Spotify Streams  \\\n",
       "0    4/26/2024  QM24S2402528             1        725.4     390,470,936   \n",
       "1     5/4/2024  USUG12400910             2        545.9     323,703,884   \n",
       "2    3/19/2024  QZJ842400387             3        538.4     601,309,283   \n",
       "3    1/12/2023  USSM12209777             4        444.9   2,031,280,633   \n",
       "4    5/31/2024  USUG12403398             5        423.3     107,034,922   \n",
       "\n",
       "  Spotify Playlist Count Spotify Playlist Reach  Spotify Popularity  \\\n",
       "0                 30,716            196,631,588                92.0   \n",
       "1                 28,113            174,597,137                92.0   \n",
       "2                 54,331            211,607,669                92.0   \n",
       "3                269,802            136,569,078                85.0   \n",
       "4                  7,223            151,469,874                88.0   \n",
       "\n",
       "   YouTube Views YouTube Likes TikTok Posts   TikTok Likes    TikTok Views  \\\n",
       "0     84,274,754     1,713,126    5,767,700    651,565,900   5,332,281,936   \n",
       "1    116,347,040     3,486,739      674,700     35,223,547     208,339,025   \n",
       "2    122,599,116     2,228,730    3,025,400    275,154,237   3,369,120,610   \n",
       "3  1,096,100,899    10,629,796    7,189,811  1,078,757,968  14,603,725,994   \n",
       "4     77,373,957     3,670,188       16,400            NaN             NaN   \n",
       "\n",
       "  YouTube Playlist Reach  Apple Music Playlist Count AirPlay Spins  \\\n",
       "0            150,597,040                       210.0        40,975   \n",
       "1            156,380,351                       188.0        40,778   \n",
       "2            373,784,955                       190.0        74,333   \n",
       "3          3,351,188,582                       394.0     1,474,799   \n",
       "4            112,763,851                       182.0        12,185   \n",
       "\n",
       "  SiriusXM Spins  Deezer Playlist Count Deezer Playlist Reach  \\\n",
       "0            684                   62.0            17,598,718   \n",
       "1              3                   67.0            10,422,430   \n",
       "2            536                  136.0            36,321,847   \n",
       "3          2,182                  264.0            24,684,248   \n",
       "4              1                   82.0            17,660,624   \n",
       "\n",
       "   Amazon Playlist Count Pandora Streams Pandora Track Stations  \\\n",
       "0                  114.0      18,004,655                 22,931   \n",
       "1                  111.0       7,780,028                 28,444   \n",
       "2                  172.0       5,022,621                  5,639   \n",
       "3                  210.0     190,260,277                203,384   \n",
       "4                  105.0       4,493,884                  7,006   \n",
       "\n",
       "  Soundcloud Streams Shazam Counts  TIDAL Popularity  Explicit Track  \n",
       "0          4,818,457     2,669,262               NaN               0  \n",
       "1          6,623,075     1,118,279               NaN               1  \n",
       "2          7,208,651     5,285,340               NaN               0  \n",
       "3                NaN    11,822,942               NaN               0  \n",
       "4            207,179       457,017               NaN               1  "
      ]
     },
     "execution_count": 4,
     "metadata": {},
     "output_type": "execute_result"
    }
   ],
   "source": [
    "# Ver las primeras lineas de las columnas\n",
    "pd.set_option(\"display.max_columns\", None)\n",
    "df.head()\n",
    "\n"
   ]
  },
  {
   "cell_type": "markdown",
   "id": "aa90ad9f",
   "metadata": {},
   "source": [
    "## Filtrar columnas"
   ]
  },
  {
   "cell_type": "code",
   "execution_count": 5,
   "id": "a137e87e",
   "metadata": {},
   "outputs": [
    {
     "data": {
      "text/html": [
       "<div>\n",
       "<style scoped>\n",
       "    .dataframe tbody tr th:only-of-type {\n",
       "        vertical-align: middle;\n",
       "    }\n",
       "\n",
       "    .dataframe tbody tr th {\n",
       "        vertical-align: top;\n",
       "    }\n",
       "\n",
       "    .dataframe thead th {\n",
       "        text-align: right;\n",
       "    }\n",
       "</style>\n",
       "<table border=\"1\" class=\"dataframe\">\n",
       "  <thead>\n",
       "    <tr style=\"text-align: right;\">\n",
       "      <th></th>\n",
       "      <th>track</th>\n",
       "      <th>album_name</th>\n",
       "      <th>artist</th>\n",
       "      <th>release_date</th>\n",
       "      <th>all_time_rank</th>\n",
       "      <th>track_score</th>\n",
       "      <th>spotify_streams</th>\n",
       "      <th>spotify_playlist_count</th>\n",
       "      <th>spotify_playlist_reach</th>\n",
       "      <th>spotify_popularity</th>\n",
       "    </tr>\n",
       "  </thead>\n",
       "  <tbody>\n",
       "    <tr>\n",
       "      <th>0</th>\n",
       "      <td>MILLION DOLLAR BABY</td>\n",
       "      <td>Million Dollar Baby - Single</td>\n",
       "      <td>Tommy Richman</td>\n",
       "      <td>4/26/2024</td>\n",
       "      <td>1</td>\n",
       "      <td>725.4</td>\n",
       "      <td>390,470,936</td>\n",
       "      <td>30,716</td>\n",
       "      <td>196,631,588</td>\n",
       "      <td>92.0</td>\n",
       "    </tr>\n",
       "    <tr>\n",
       "      <th>1</th>\n",
       "      <td>Not Like Us</td>\n",
       "      <td>Not Like Us</td>\n",
       "      <td>Kendrick Lamar</td>\n",
       "      <td>5/4/2024</td>\n",
       "      <td>2</td>\n",
       "      <td>545.9</td>\n",
       "      <td>323,703,884</td>\n",
       "      <td>28,113</td>\n",
       "      <td>174,597,137</td>\n",
       "      <td>92.0</td>\n",
       "    </tr>\n",
       "    <tr>\n",
       "      <th>2</th>\n",
       "      <td>i like the way you kiss me</td>\n",
       "      <td>I like the way you kiss me</td>\n",
       "      <td>Artemas</td>\n",
       "      <td>3/19/2024</td>\n",
       "      <td>3</td>\n",
       "      <td>538.4</td>\n",
       "      <td>601,309,283</td>\n",
       "      <td>54,331</td>\n",
       "      <td>211,607,669</td>\n",
       "      <td>92.0</td>\n",
       "    </tr>\n",
       "    <tr>\n",
       "      <th>3</th>\n",
       "      <td>Flowers</td>\n",
       "      <td>Flowers - Single</td>\n",
       "      <td>Miley Cyrus</td>\n",
       "      <td>1/12/2023</td>\n",
       "      <td>4</td>\n",
       "      <td>444.9</td>\n",
       "      <td>2,031,280,633</td>\n",
       "      <td>269,802</td>\n",
       "      <td>136,569,078</td>\n",
       "      <td>85.0</td>\n",
       "    </tr>\n",
       "    <tr>\n",
       "      <th>4</th>\n",
       "      <td>Houdini</td>\n",
       "      <td>Houdini</td>\n",
       "      <td>Eminem</td>\n",
       "      <td>5/31/2024</td>\n",
       "      <td>5</td>\n",
       "      <td>423.3</td>\n",
       "      <td>107,034,922</td>\n",
       "      <td>7,223</td>\n",
       "      <td>151,469,874</td>\n",
       "      <td>88.0</td>\n",
       "    </tr>\n",
       "  </tbody>\n",
       "</table>\n",
       "</div>"
      ],
      "text/plain": [
       "                        track                    album_name          artist  \\\n",
       "0         MILLION DOLLAR BABY  Million Dollar Baby - Single   Tommy Richman   \n",
       "1                 Not Like Us                   Not Like Us  Kendrick Lamar   \n",
       "2  i like the way you kiss me    I like the way you kiss me         Artemas   \n",
       "3                     Flowers              Flowers - Single     Miley Cyrus   \n",
       "4                     Houdini                       Houdini          Eminem   \n",
       "\n",
       "  release_date all_time_rank  track_score spotify_streams  \\\n",
       "0    4/26/2024             1        725.4     390,470,936   \n",
       "1     5/4/2024             2        545.9     323,703,884   \n",
       "2    3/19/2024             3        538.4     601,309,283   \n",
       "3    1/12/2023             4        444.9   2,031,280,633   \n",
       "4    5/31/2024             5        423.3     107,034,922   \n",
       "\n",
       "  spotify_playlist_count spotify_playlist_reach  spotify_popularity  \n",
       "0                 30,716            196,631,588                92.0  \n",
       "1                 28,113            174,597,137                92.0  \n",
       "2                 54,331            211,607,669                92.0  \n",
       "3                269,802            136,569,078                85.0  \n",
       "4                  7,223            151,469,874                88.0  "
      ]
     },
     "metadata": {},
     "output_type": "display_data"
    }
   ],
   "source": [
    "# Filtrar solo las columnas necesarias para trabajar solo con datos de Spotify\n",
    "filtered_columns = [col for col in df.columns if 'spotify' in col.lower()]\n",
    "spotify_df = df[['Track', 'Album Name', 'Artist', 'Release Date', 'All Time Rank', 'Track Score'] + filtered_columns ]\n",
    "\n",
    "\n",
    "spotify_df.columns = spotify_df.columns.str.lower().str.replace(' ', \"_\", regex=False)\n",
    "display(spotify_df.head())\n"
   ]
  },
  {
   "cell_type": "code",
   "execution_count": 6,
   "id": "211894be",
   "metadata": {},
   "outputs": [
    {
     "name": "stdout",
     "output_type": "stream",
     "text": [
      "<class 'pandas.core.frame.DataFrame'>\n",
      "RangeIndex: 4600 entries, 0 to 4599\n",
      "Data columns (total 10 columns):\n",
      " #   Column                  Non-Null Count  Dtype  \n",
      "---  ------                  --------------  -----  \n",
      " 0   track                   4600 non-null   object \n",
      " 1   album_name              4600 non-null   object \n",
      " 2   artist                  4595 non-null   object \n",
      " 3   release_date            4600 non-null   object \n",
      " 4   all_time_rank           4600 non-null   object \n",
      " 5   track_score             4600 non-null   float64\n",
      " 6   spotify_streams         4487 non-null   object \n",
      " 7   spotify_playlist_count  4530 non-null   object \n",
      " 8   spotify_playlist_reach  4528 non-null   object \n",
      " 9   spotify_popularity      3796 non-null   float64\n",
      "dtypes: float64(2), object(8)\n",
      "memory usage: 359.5+ KB\n"
     ]
    }
   ],
   "source": [
    "# Revisar nuevo dataframe\n",
    "spotify_df.info()"
   ]
  },
  {
   "cell_type": "markdown",
   "id": "77912d5e",
   "metadata": {},
   "source": [
    "## Limpieza y tipos de datos"
   ]
  },
  {
   "cell_type": "code",
   "execution_count": null,
   "id": "ad337079",
   "metadata": {},
   "outputs": [
    {
     "data": {
      "text/plain": [
       "track                       0\n",
       "album_name                  0\n",
       "artist                      0\n",
       "release_date                0\n",
       "all_time_rank               0\n",
       "track_score                 0\n",
       "spotify_streams             0\n",
       "spotify_playlist_count     20\n",
       "spotify_playlist_reach     22\n",
       "spotify_popularity        706\n",
       "dtype: int64"
      ]
     },
     "execution_count": 7,
     "metadata": {},
     "output_type": "execute_result"
    }
   ],
   "source": [
    "# Limpieza de datos nulos en las columnas importantes\n",
    "spotify_df = spotify_df.dropna(subset=['artist', 'spotify_streams'])\n",
    "spotify_df['track'] = spotify_df['track'].drop_duplicates()\n",
    "spotify_df = spotify_df.dropna(subset=['track'])\n",
    "\n",
    "\n",
    "spotify_df.isnull().sum()\n"
   ]
  },
  {
   "cell_type": "code",
   "execution_count": 8,
   "id": "0254c247",
   "metadata": {},
   "outputs": [
    {
     "data": {
      "text/plain": [
       "track                      object\n",
       "album_name                 object\n",
       "artist                     object\n",
       "release_date               object\n",
       "all_time_rank              object\n",
       "track_score               float64\n",
       "spotify_streams            object\n",
       "spotify_playlist_count     object\n",
       "spotify_playlist_reach     object\n",
       "spotify_popularity        float64\n",
       "dtype: object"
      ]
     },
     "metadata": {},
     "output_type": "display_data"
    },
    {
     "data": {
      "text/plain": [
       "track                             object\n",
       "album_name                        object\n",
       "artist                            object\n",
       "release_date              datetime64[ns]\n",
       "all_time_rank                     object\n",
       "track_score                      float64\n",
       "spotify_streams                    int64\n",
       "spotify_playlist_count            object\n",
       "spotify_playlist_reach            object\n",
       "spotify_popularity               float64\n",
       "dtype: object"
      ]
     },
     "execution_count": 8,
     "metadata": {},
     "output_type": "execute_result"
    }
   ],
   "source": [
    "# Verificar y cambiar tipos de datos\n",
    "display(spotify_df.dtypes)\n",
    "# Cambiar tipo de dato de 'release_date' a datetime\n",
    "spotify_df['release_date'] = pd.to_datetime(spotify_df['release_date'], errors='coerce')\n",
    "\n",
    "# Cambiar tipo de dato de 'spotify_streams' a int\n",
    "spotify_df['spotify_streams'] = spotify_df['spotify_streams'].str.replace(',', '')\n",
    "spotify_df['spotify_streams'] = spotify_df['spotify_streams'].astype(int)\n",
    "\n",
    "spotify_df.dtypes\n"
   ]
  },
  {
   "cell_type": "markdown",
   "metadata": {},
   "source": [
    "## Visualización de los datos\n"
   ]
  },
  {
   "cell_type": "code",
   "execution_count": null,
   "metadata": {},
   "outputs": [
    {
     "data": {
      "application/vnd.plotly.v1+json": {
       "config": {
        "plotlyServerURL": "https://plot.ly"
       },
       "data": [
        {
         "bingroup": "x",
         "hovertemplate": "popularity_bin=1<br>spotify_streams=%{x}<br>count=%{y}<extra></extra>",
         "legendgroup": "1",
         "marker": {
          "color": "#440154",
          "line": {
           "color": "black",
           "width": 1
          },
          "pattern": {
           "shape": ""
          }
         },
         "name": "1",
         "nbinsx": 50,
         "orientation": "v",
         "showlegend": true,
         "type": "histogram",
         "x": {
          "bdata": "57UAAOUeAADC7wEAzmOGByy9AAB7fAAA5dAeCFteIwW0a+cCYCwAAFBGAgDwOAcARmt5CU6dgguHkCIcaDN1OyqhUAal7goAiTQBAPc+AAAZzXYbWqMEAGB/oQdtEO4fzjEAANFzAAAmoQAA7gcAALijlwLXOKUB0dbYBMaULgC1PFpbzTnXBdkMJQpnYQAAsBwBAP4Ilz2cGAAAgn8AABXd4QTZCAAAPcp2AOsNnQCyQ4Eb89gEGDopAAAm8XUHHEcAAJBeMQE4uNcACioAAI3vIALOngAAQs8AAKuRAACtQzcOpBwAAAwJAQBkG4QDB1RNAjk/aAmUzQEAeSAAAPYNAAATYEUARwkAAKgfAADbPAAAv3IAAETvEgReNvgBF+wAFPKMeAA50AAAuC4AABfXRwFxeRgKb7ydCHlL8gb+YTsKrzeAAT2Usgo3IwAAi8hRF+idBABaVwAAnG8/A/sOAADqkwAAzAkAAFdNbwG5ATAOMVk+AuAHuAV3AuoA03UiBZjJSAibDgAAqSYAAHXGCACypRxrd1EAAHXJ7gQ=",
          "dtype": "i4"
         },
         "xaxis": "x",
         "yaxis": "y"
        },
        {
         "bingroup": "x",
         "hovertemplate": "popularity_bin=2<br>spotify_streams=%{x}<br>count=%{y}<extra></extra>",
         "legendgroup": "2",
         "marker": {
          "color": "#482878",
          "line": {
           "color": "black",
           "width": 1
          },
          "pattern": {
           "shape": ""
          }
         },
         "name": "2",
         "nbinsx": 50,
         "orientation": "v",
         "showlegend": true,
         "type": "histogram",
         "x": [
          297185,
          55346,
          158627,
          998964097,
          26674909,
          108501771,
          42761,
          879708559,
          720822868,
          2143821605,
          152597421,
          1320495311,
          952626904,
          119445482,
          125047,
          408449,
          433515672,
          34629239,
          108133711,
          72952792,
          861521,
          278318,
          1666699743,
          7403756,
          57151,
          95871805,
          44047842,
          1415206,
          532262,
          56670689,
          149455007,
          607726217,
          306040,
          84198,
          3589,
          72997,
          4078322,
          2447043,
          174154846,
          374553396,
          253490559,
          28563790,
          139751220,
          43499127,
          1060667446,
          2379787239,
          168750749,
          93040974,
          433037,
          40620097,
          80585683,
          56463608,
          466462034,
          37199,
          752826,
          49081,
          301362,
          551388,
          8434856,
          257646451,
          108439,
          41904754,
          32753,
          330280
         ],
         "xaxis": "x",
         "yaxis": "y"
        },
        {
         "bingroup": "x",
         "hovertemplate": "popularity_bin=3<br>spotify_streams=%{x}<br>count=%{y}<extra></extra>",
         "legendgroup": "3",
         "marker": {
          "color": "#3e4989",
          "line": {
           "color": "black",
           "width": 1
          },
          "pattern": {
           "shape": ""
          }
         },
         "name": "3",
         "nbinsx": 50,
         "orientation": "v",
         "showlegend": true,
         "type": "histogram",
         "x": {
          "bdata": "T5cBADheCACeyhEAyqaXEhxqHgALKAoA92WRfowtAgDYvKYKsd0iAK5bHAAN09YRZtL2TNSXCQDZhgwASCCmAs/q4WOI1AYA4a9TAMIkBwAhn4wAJE4HAON1BgDUnpUdqSUEAMyRXgCfSzUAvHGMH/YngAKPWJYCq5UKAElXCAClYCwqkmUHMiRwHi73fapN7m10ATuSFgAyDh4AH0E+Amr5UwJP/wEAfxk1AE4kBAD9VQMALkcnAJj9nhZTDpoGqdEjANSqLBA3sgMA",
          "dtype": "i4"
         },
         "xaxis": "x",
         "yaxis": "y"
        },
        {
         "bingroup": "x",
         "hovertemplate": "popularity_bin=4<br>spotify_streams=%{x}<br>count=%{y}<extra></extra>",
         "legendgroup": "4",
         "marker": {
          "color": "#31688e",
          "line": {
           "color": "black",
           "width": 1
          },
          "pattern": {
           "shape": ""
          }
         },
         "name": "4",
         "nbinsx": 50,
         "orientation": "v",
         "showlegend": true,
         "type": "histogram",
         "x": {
          "bdata": "56ZwAL4IFQCmGyMAHqeaAFXr2wiYfxIAeFP3Dxl29QNzQgUAecKgAeUhrwDW5HQAVD6kCouSMQD1SRAC/iikDLQxIAChmS8A/SAcACqDWQBTijUA0IZSADnCBQC2dUAA6MgAAhHHYwgKcqJVCfz+VMqFCACKV2sL0moaAEXhJwBonYcAEZ1QAEipNADjcKoAIErTAFU0kgaUMFMIngaKACH/JQDhBVMBRJoYAMVSWwCTnRAAUWxTAN0O9AIeTwcAkzVPAJ/RVwDrQWVMqEoLAFIeNABaRkcA3NLIAb53gxDvOQYD",
          "dtype": "i4"
         },
         "xaxis": "x",
         "yaxis": "y"
        },
        {
         "bingroup": "x",
         "hovertemplate": "popularity_bin=5<br>spotify_streams=%{x}<br>count=%{y}<extra></extra>",
         "legendgroup": "5",
         "marker": {
          "color": "#26828e",
          "line": {
           "color": "black",
           "width": 1
          },
          "pattern": {
           "shape": ""
          }
         },
         "name": "5",
         "nbinsx": 50,
         "orientation": "v",
         "showlegend": true,
         "type": "histogram",
         "x": [
          170970614,
          61382407,
          5712985,
          3913988,
          8028757,
          861388470,
          90383224,
          27747363,
          121234000,
          17992999,
          1867282,
          419016792,
          52830200,
          40284121,
          16264949,
          24215252,
          18637452,
          24963236,
          173526912,
          8517888,
          49585127,
          899456,
          184278,
          92985109,
          112737954,
          17756452,
          13219831,
          541105655,
          33384757,
          2035613,
          1087201670,
          35269135,
          1655575417,
          142783595,
          67890975,
          16326628,
          43921455,
          1902241314,
          1823871908,
          3608717,
          12208412,
          241174958,
          19617254,
          53532212,
          47296342,
          17075528,
          30173434,
          28185177,
          777305444,
          811888874,
          2248788,
          55312275,
          170646969,
          21634137,
          1226381432,
          9126545,
          8470479,
          80772450,
          27327435,
          971473231,
          665145968,
          2014959725,
          41059494,
          82539441,
          2188592950,
          11569095,
          55362558,
          8316794,
          17745591,
          74338196,
          25893883,
          34116353,
          10848948,
          54678867,
          1953403531,
          936450891,
          26054526,
          162054666,
          4168391,
          13502324,
          164007720,
          39793463,
          71345247,
          36861625,
          5200791,
          76516847,
          7762464,
          11923405,
          28805237,
          21970517,
          146709792,
          25149668,
          563366391,
          6231986,
          34096694,
          18566967,
          4943057,
          93229994,
          7383901,
          12383314,
          18611163,
          14566339,
          19690183,
          164542767,
          68273832,
          41808541,
          22697447,
          128411645,
          21092086
         ],
         "xaxis": "x",
         "yaxis": "y"
        },
        {
         "bingroup": "x",
         "hovertemplate": "popularity_bin=6<br>spotify_streams=%{x}<br>count=%{y}<extra></extra>",
         "legendgroup": "6",
         "marker": {
          "color": "#1f9e89",
          "line": {
           "color": "black",
           "width": 1
          },
          "pattern": {
           "shape": ""
          }
         },
         "name": "6",
         "nbinsx": 50,
         "orientation": "v",
         "showlegend": true,
         "type": "histogram",
         "x": [
          86516910,
          631378937,
          29994527,
          428986855,
          14645123,
          43286859,
          922010059,
          36007719,
          21236593,
          48929060,
          40178056,
          171856399,
          85068645,
          391856304,
          54513960,
          574505748,
          171118535,
          16197748,
          121214716,
          144985656,
          73468394,
          341742937,
          121391098,
          86295058,
          317223968,
          257167813,
          23823099,
          2167768056,
          23191929,
          164137928,
          28340672,
          8699917,
          24285898,
          465348362,
          102668822,
          86327319,
          72849488,
          218661601,
          648757330,
          347218974,
          27444985,
          12933566,
          89701636,
          54104852,
          361357607,
          218205900,
          2902263,
          57370965,
          1663491433,
          105604106,
          37027643,
          24806000,
          83801298,
          277505000,
          96829196,
          740261910,
          13615330,
          270364614,
          1891920348,
          331775657,
          426425213,
          204471704,
          70868414,
          44345269,
          187646063,
          812954133,
          183453795,
          110291303,
          174403309,
          62243984,
          527632887,
          89815962,
          508151972,
          60103893,
          1995511952,
          411109963,
          34566972,
          355833360,
          76630812,
          35004403,
          23883628,
          125396685,
          17080355,
          849055927,
          50831625,
          470358238,
          86910140,
          37248788,
          42993944,
          800203170,
          24195796,
          115647691,
          352258962,
          17675254,
          16483067,
          120054361,
          17389541,
          142817891,
          53064181,
          39899018,
          254118106,
          10296798,
          2279039,
          44751795,
          70622319,
          72348363,
          67999897,
          308915484,
          306221125,
          38260236,
          149801910,
          550049388,
          104073182,
          136999598,
          100335960,
          83366020,
          86943003,
          240138585,
          2184754018,
          86262202,
          166427224,
          3107100349,
          2409532,
          11029541,
          47723324,
          354683755,
          14394612,
          32318892,
          155050178,
          243305603,
          488713982,
          64013323,
          133061000,
          214391030,
          86387703,
          52418564,
          28240865,
          138100044,
          10423140,
          58652026,
          236644328,
          34026239,
          62458329,
          168710415,
          577534277,
          79738242,
          108241832,
          79783827,
          92120986,
          47325533,
          492873992,
          32244050,
          475881575,
          169896142,
          20588020,
          275416061,
          168963270,
          28739240,
          14167450,
          143421888,
          224367887,
          265244748,
          58058696,
          239850720,
          187818818,
          21081306,
          242892279,
          68460285,
          1356969354,
          266525796,
          35308201,
          258464933,
          257661585,
          314089265,
          75717094,
          171728710,
          32433183,
          204236514,
          44122161,
          77941531,
          75577819,
          41255598,
          32018123,
          476699016,
          184246401,
          19938326,
          153042459,
          121466936,
          19182347,
          15832405,
          254130819,
          65786757,
          129283318,
          110960415,
          397893665,
          142352659,
          46356684,
          61704511,
          45382812,
          22007314,
          92896589,
          191569959,
          30361093,
          359828344,
          94152948,
          21188649,
          57146959,
          312678365,
          142075177,
          94677649,
          64851689,
          22148259,
          103549505,
          46615691,
          207093355,
          40358575,
          186233910,
          317302250,
          162551255,
          133039977,
          158404124,
          60358583,
          63442980,
          224376030,
          174090982,
          231155441,
          261207310,
          64612903,
          881858,
          92866817,
          222571023,
          381166294,
          332224927,
          86132200,
          458706557,
          224150665,
          143152814,
          43844757,
          10694922,
          46872738,
          28945482,
          229366200,
          79045342,
          128264127,
          162240700,
          92536126,
          8388731,
          14329936,
          210287302,
          1065399331,
          66701855,
          95962246,
          161145820,
          208249257,
          921936314,
          177369022,
          22317486,
          265126606,
          53980875,
          131677140,
          126680278,
          42067554,
          1196257,
          11614161,
          200764254,
          224529894,
          41494349,
          172558590,
          65157999,
          6220250,
          131713257,
          358055646,
          18550706,
          441916342,
          49939720,
          110101642,
          122957173,
          58523865,
          198942707,
          365789171,
          62323136,
          145000664,
          97600091,
          42862565,
          35440292,
          196159389,
          185362995,
          135665686,
          17238604,
          29422741,
          50098085,
          70664645,
          38630486,
          36465157,
          66617153,
          123191456,
          172657413,
          104411097,
          44231951,
          25898720,
          120404381,
          45306335,
          64562541,
          43078993,
          36044532,
          95952617,
          99037719,
          52223414,
          127742133,
          130902100,
          335496248,
          153213678,
          10019831,
          7375613,
          211158013,
          141747648,
          115237552,
          267459903,
          92424493,
          97902676,
          102703448,
          36593527,
          148855365,
          225260644,
          142927322,
          172986367,
          15885603,
          36475819,
          140194014,
          139377440,
          121386649,
          5503365,
          98108741,
          49155460,
          101094621,
          58284482,
          65098757,
          248857241,
          255776823,
          370693139,
          19247151,
          56051407,
          71915713,
          21134265,
          119666188,
          31705548,
          58539080,
          90838757,
          164125901,
          35549029,
          38264355,
          80899019,
          125560682,
          33278200,
          126063862,
          189969086,
          87813373,
          57174683,
          199248929,
          92981184,
          39941762,
          381501023,
          180051347,
          31038318,
          176048317,
          68139013,
          231523576,
          35324338,
          59929910,
          209328795,
          218674366,
          59038013,
          234126191,
          160979905,
          315697428,
          23388367,
          485274842,
          285851797,
          42735162,
          52282360
         ],
         "xaxis": "x",
         "yaxis": "y"
        },
        {
         "bingroup": "x",
         "hovertemplate": "popularity_bin=7<br>spotify_streams=%{x}<br>count=%{y}<extra></extra>",
         "legendgroup": "7",
         "marker": {
          "color": "#35b779",
          "line": {
           "color": "black",
           "width": 1
          },
          "pattern": {
           "shape": ""
          }
         },
         "name": "7",
         "nbinsx": 50,
         "orientation": "v",
         "showlegend": true,
         "type": "histogram",
         "x": {
          "bdata": "+ew6PKt6wg0YlnwyonfISRCKKhbG8mlGjzAgBiVRwBvD+h4LlBErBD3po0KHzh5mEbI7LnbjxETvTTUDEUNsFcoI7TBbBr4zSx/kKrYC3SVIIVsbI3/TKQXdl12bSVoA7MjSFz/rviDdDZtKk7wHJ8URIz8EtUAPBhjQLi5CcBqxP2MwZQZnDjBCXSHQI4wWAj/vLdQt6wHK3AINkr86L6T7IwcOKRQF+hebN8XeUxSnh+EcIKiFGX7mECLgRncZ7XWJQtHcohdVNnYVU+twHOfVIQWBK005diiPJlc+2hhe5acCgT75Gp5yYgnDnNMOVI5bYutc/S/YgOMFR9v/B54ESyql85wJsLp6BA/H1xWGW64U39fvDidVUhOl6XgI5Y3nIQThzhlwxHEhPL9EABnuYCNef+8VP/reHAW6rhhEUtEGkSeFGlyQYlJHmtElw9vyG4CjiStby14QYYaXExSRUA5Lx0kEPjQDLJRq5wkI2wcalh0QEMV2tBNiQIUcF4W6Fg/ZYAlVahIYgjgWD/0WNRgjd8oH5PkzTVc3jwwghHAOHDy6HfpSxiPB6G4xtr82Ge/EHAy0AfEuFVeoJXRYQy1BEbscfUw7G5hXJwuKZVU7m1IfDMNfySeZIfMn8QEFDXHuZwn54scYmQWICeZ2Niy/S7cj44m0OdaH8wjunQMN8h1pLMUssio/gn8IOiFBDu17DhIeVocMs1F9CHp5tTliRY4in27lDVXXzB42DS0Ech+ZCEjt8Akx1mY24CvjH1K4nSBSu6cbmSq3FTvSaBcEtEUUUkyYBoSqTCYPFH4V2cIeIuP7mAeqywcRBQmqBSaNmyhCTSgRhkdPKeV5ixbL1aII7i7OCfDIPQ9aGVUKHN8IDyKS9BISpeYa+IV0IoFP8hr+GVULhFK3FAODbQ6HM/kGAWR6KocLeyGiphw+TWClI7dnjSfNpNwIH4C1B0HTEhAM+UMPni+qJ/Li9whqmvEVNcdRBBw0bAayuaQiSxvRN1AfFyq7Lq4Ha3prIT8DPzlQdYMlA8V3B1e6HA/fw9cMOke6GReEtgZjIhIgdO1nCvdHzCySDr0Pjr+QFsI7ogUT3hMKnlnZIImhnwbpKXoN3T1OB1RxhBnCUV4N/M19E1rHzxI3l2oeMjdKG5PSxQMVEGdPG3DmJh/X4jBbrrAsWQvHFpBBgCs3U70UNJugDk1OmCRj7noJbJzEGfAsmS74VvBEBndmB5ouFw+/gW4Vmq4DLEnd1QVipSsOWkG9BSN+qxQZKZwYAmElNKVaojBxqvoT8Gm1FfFl8AWIyi03YlWAP4ZGlQd9qpAH6ocUFCVcgBmrpxIZE+dICWQoRiAnZl0A37V3GeHHlAOSnPUHCyeNEy3kAwXQ+OYQXSwoCu/O1BEe01YOvsCHF0/ohQcGZVQNN3lVDixF5Cq2iMMCE7gMIhN5hAmQN4sjlL2cCU0exgeAj2MxJ8suKztG4gugnzQS3/P2GaG8IBApC0wUA1QJHWakVRhU9kIzHgkhFLTQ6xV62b0FCNXrEbtiWRt5K0Iep2Z1ILTdPwiwnhcpovOjD7HwSSt4xCoIda4ZLYeudBoTvYIZ7hRpCRWKkg+o9x47DYycF2UMYxZboUwQDfrAAfIj1Be+IisaocAEDEj7xwLgQgwRtnvEApGRsB57+ssWKmPtDasQ6BXX+toi0yfuHVVOVggUVIsLPq4aGu005QoBohwETpFWB4yS4iCDBRxTYKm2JY+LDBoeLT0O73C/HUt4bCRK9OsU08BnJdIgzhE5xTUqgi4yCmUYbAw+4EUAkjAHIzyqtgaDW60Jv5/mI7JnEQuwsosME8nHGm0g2Qdg5akTKPjTARElrQeERBIZMrjIDW0iNzgfeNURa7e5EfOo3jc4eckZ/HLEIj8VGwPdZisCCtrZEj/qdAdpsGIHEoXBEsgiAUOVXp0bxCRrI65XTxRTQG0IkHr4GjeCXhJ23U417Q+OCTqb+DmzH0kACpNjEK7HGAiQb3cOzT3FCUhFUyvKoT0XqC3lCIYTWQq9SYUdw79NHUSunSSW6Asob+weLShVHw/Mh9YUMdSGCL9L6Cm/qyUGgEuOCUlbPxkUcfoEk52nGo8dvA8HX244F9q8HlfT8wXMDy8ApheYJkCkmyL/960JNV3TIr6hDSMsugEKXk7lDJAdHyS9JAIMTpgEJ+GZaS/dhDMLoszjHaVS7GtJKF4fnsn6BHJTjAQ1pGEnRc3TCdhv8CfWA4AIuXGaEuPtcxIQhvMPYBNFIArmdAQSx9wI+sZBCtvEBBRyZY0j1DR0B1s8dRRfPQkTIpZZCwqWSggTA14CO/ZVAPlZSQ0Njv8Qi/x9CPQqvghFudUGzOXwFgG/DhEjHNgW5XxgCwt+dD9FAkcXRdjHHC4YOxEz9hkH3n4MIwEoNQSLPJ4L3bE5I+1W3yXmDcYJl+poC2i/QxE21YwIvVZnBtU86QOd54IZsFzoFyelBwuE6NsKDLbSCeNHPwkZh0IVUwggBMTv8ycA1ZcK4fWIDbEQSQ7hHqcSAZVkR29ULxiGWGYudBKeCzjVYjbV7AUY4T2GAEEn0A13itUU/ujwOWVEHiHKQ78VeRGVDEJmQgPH3RwQByqEDOLwoSCACCEA0Th1Cytr3QwDeVwhrCAjDOGUggYQy0gSBp3mC5MeAQiJCVYOvjW+JFmwfwoV+B0DpRbFBSSqIiJJLxwGiv2CCWHN2wNjIR0DOr2XGHq3wxsh6tEKIYDiFVXNzBdIlh4JryJ8C+/S1xRR22YYwg/bCKa89Dh+tEkKWHenHGIRChuW+dsDLRhEAO2WzBPgRGsQknhxFeO6HxIZH1we7GNGBeeJLx3RJBwYw2FIDrEtozseqjYAHnv4BPY7sjNnhXwUANZYHVUAPwALKV8G/uUyJGrulwBNJbgOwQxGCr6SATRDCRMII+3ICqFrvQqwFfUrQTERBNlgByi21RERZFtcGjSPxxaxye0PO4hOHp/Digh+yR0IgqdpCEcY1yDd/z4Fn/L6ALTHzgqPIYcHJWhvIYarrBSGTJ0XPrGeLVHqOh/Fgt8JSp+XMB/7vw4XjjwOlWKMFC9nsBAAU/cFRvyTDcIBLgm4T3gg40ybCW0x/Qwc8asWzCq+EJ++7EqbNkgVI6zfGCjRnwWBM0MJLOfNGB6cjjq/+7kGN/KFAtkM6gNaAzwBFqLWDgEyqxIxu8wDzWxaH75C8A6xe7wrPq7/IP2bOw9jhAcL0TPXBTPxJw/MNXwgdEowBwalkl06d90L74RjC/YJMwcCA2YLDzInBgk/OxlvptomtkMhDrK9KgzxLTIX+xKOCGK5KyIjFtkdfbsEBkTHjhkDdaAilVvOFVjAYRJon7gZflabCjM0iBP5eugCCRAhDdYBRjADHA4Eh62TIWyKExzKKPkGYRzcGGm0rBRVbAAX8iuOEtAEbAaj6B8M7ZemCG7D3hLIQ1QRae5UCOjHGgx0nyIF6xcQBj5DMABknBQahMcpDnSnLBcwilsJ3EnlAq5r1hn2fnYMQhKLFGa34RB5N8sYm2+MCHs7rB3jySMcJF0XB3xWSg0wsi8TbtAHCf8vuwJOsfgIFVl6IwRzugWsvA0ilQLmMFAitwF7kPoT9yZdBDmGYA9Ky5YGb1VaCPmPCghHrbYCR1eHPDBrfx2tNaYEBq5ZHK/2PQZVjuUhmlt8CQ6PuAW0xUwXjMY1B7K6LgpN6PkhYIXEGFPC7w7NdOsFNzojBM6VZxgUOuwRQf64CCkQnw+KYusWLcqcCLABBDt9YcUZ2BiDCESmnQe39G4Kd0nyFgy9nAoU5EAFZAcpBd4bCw7E9oIXNI5OAA70DA5CogQdpIJJCqv+6A9aNCAJuhNHHMVD9CeLnYYOcViRFKGZnwD8b6MLyShRDR5KaAaggVofA79mBeronxlRBFAnkZtABkbbrzmZOBkN0eHnAn3QYQ7L/XQfpie2EQfL7SfHILkHk8VUBk81ADRv0gkZh33iA8vXaAQsB1wEcwPUGic1vSTpajEUDAr+HStPHTLaMDM/tMuqFOxdMArzfsQomFEVFydUaQdVG0EQV+xlDy9Kow4ojuoGYh1KFwQ2qhJqOb4QANyXBxJcWABGKkkALXWPBIi39Re04RcC/mXPEv8+ohItMv8Xq3JwC4vXTRzttg0LdC4nFXviPBNMRb4mU66BBdUOTAzJiJIPSlAhBYFyqgC3CgEKlbxcBuD0VgCnLJEckbVQClvm4hHiHPADt20FEQ/9HAV9fjIEbvwQItLcgRu1vD8A+uFpG/ItjAxsFBQAiEBNVW4aawi6W2sFwr5mGgfawQgHrZsC9hkLDZtv0AZriuUDOoVPFyeQTBeFibIAIynuDNp4QAuQdL8L2bQGCm59JwPqtkIY45I8FEqYShEQETknbWCJCGYUgQ8Wu4UiKQcUCRa7hSKkvGcXxBpNJMvOohDqYXAPYM4OE78zFgxgKnsPAcEwBqghhBAZdX8YZjkqHgvm3xCfWHwR65vwCJv/cwoy5VYe0n/VKimYIgmUeFUFDoILCJMBvxgHZMIT+ZFpBHRLvQk/3MIIBzLxI1/3KBEPa+gOAE4/Ckr32wWzR+cjp6AWG2E6yyMjNvoh6XOvEegRjh+E1VEoycaJHKUpawnptYAb202wGptezBA3eN0EwatcAB+i4wZwQPIGRrefAZu8hwTRyjoGAot3HXCMSgUeRhYJUl4SFQsbig5QtkQmRbf9Bvt4Xg0W/Z8NibkgElyy8wvvwRQowq0dF8xYjBaZoIICIWwXHjDsEg4ouNkLT0HDB+iEggthDKQKXWKUCvBdQxLC6+QsZOYUE3xZChUMPG4O1eo6De2gWBM7EH8xKK4rCdZ4AAsNuBwEXsg8EbN0LxcuB6AGJMnyCv98/APHh8keKR/8BjuBcz+OCmAmYKr5EdORLQ4HdFEEzxeTB8dIRA/gWX0bWYrqB5wn5xGdATMMMCC3CXHN2hOJQSIPsU5BA/9zzw9a/KICXZfJCa5HDwQQVA8FA+fTCnxW8w5UjWYP9BYSNyAVwAHb/RUlJMJ6CFtXLQMeghoNgSN9BAfzwSXA390HHfgqFSLFRw+M2N4YVl5VKyyn5ienTEMUk5dGC7/MaCWZhVwtjeaGGf5BuwgPOfw6olJBB0NjMRPOf4QttW6SENF04AYbl74G9o2FEtKtoicuGkUM+qxiAzp4GAYR3s0Q8gKoCZuMYQoQ2kgd8TV2D8tw7wLs4BMEthfgGwy4eDKifhAENF0rGm2BGwoyMNkZu3o+AENs9AcgQm0dJZ48KigcJR7e6E0MW/jgBjVwUAQ9/TkRs3fSCTQxbwYQxEgI7ou/Bezvqhg0UhMCE2d5BUiwaAIriuEfanQ1CDsktzJkfdoYo0KeCdnMFhXpX8wDIHN1BNPpnRXUYJINWaCnG1VT5BhZCbYH55uWBqyuiBCMyQUHOYSnCpr6DwLZgx0Dy5M8BGYmTwXEtgUhFSfYDKkUgg/VWwUrGodGF+FHqxDiTzIcNyLoB6bSAgn38i0MieUMEaU+ywie7D0swuTEFwA5HgZXI20NHIovBQG91RIT8gEZ1l+rK6IWaBJwD5gjTx8ADo6cywchDucpb0wlJcOsMg+A8hcJ7WHCBrzOsRxaluUBqHQxEgvarABemeEjgnoLIHMzHh72yQQfw8ieC1thqwYmjwYS3yC4BvCuNQNS/NULy/aFB50nGh0huCoQdII3A9KtMQmtztQVUZcvJf2POAj7DEUCn1GvCIiV3wV0G8sD2WUfC0gFkAcrxKsR2rbqNm7wQzmkIAIDGXA6BqtwXRDivZIP9KcqG7UYDQTg30oAGBxgFSUNlw0/+z4hcZGCELWNzQgz0DwMHhATB+eaKAhyb50PQ8VGBU5XYAP49AwWFCdiF2dr+QucQ4oVdwSYCqF4zBdjjuYXyc4NDfBk4zFjE8UHEXVcDX9K1w8GVtsT9b8HCM9xxCWyFM80jhA7APtmmiXzEWgeQ1bJDf5e/QVfwSANRr2BBykuLAiG9roO07MLC6FcowY/7MYFGj3qBbl4FiXu1dAp7bS5ImmwLwkXLOgTwzHvJMR58yZaSI4IaOqSJ5/DCy/NtZoXxJuMBKo17SnXaGkDsL2vEkMU4w0fPHoHSVarBwatlQh1D0UeJzL/FMQu7A1SK3gBgLsWBJRLNQQY7U8NhZdoF3NAvQUOhGcc+yL6GcXt5gjlEP8KUcxEC27fKBgUJZIMzrdSCk5P1gj0n94FSvNDAP6kJxLpyYYFmSd2Fv8FBwGSk4ofvDNBIQADmwtZUrIWTuxlKlWf6h3lji4HcnucDKJa/w0OImgMNt64I58EVwkvV1oFZYWoBzO8OQzjwdMN9rFyAszY5xRghtMPTzhRDX4Z7CDJnYoATvODFkNdXgDMppYQH22QGLvZjxfnbGMjQBGSD9uVPADMzRYHtOuHGxMLPwgC8AoVfw6zDn8GxiY/0akNiMpGDyNrRQqaULoUJLScDOPpdw104I0DtbVNAM3AUguMpqsI7Uo+Dw==",
          "dtype": "i4"
         },
         "xaxis": "x",
         "yaxis": "y"
        },
        {
         "bingroup": "x",
         "hovertemplate": "popularity_bin=8<br>spotify_streams=%{x}<br>count=%{y}<extra></extra>",
         "legendgroup": "8",
         "marker": {
          "color": "#6ece58",
          "line": {
           "color": "black",
           "width": 1
          },
          "pattern": {
           "shape": ""
          }
         },
         "name": "8",
         "nbinsx": 50,
         "orientation": "v",
         "showlegend": true,
         "type": "histogram",
         "x": [
          720822868,
          3071214106,
          304929492,
          1747093405,
          1391688322,
          1556275789,
          584427088,
          946941510,
          1008495696,
          1500499584,
          1215336974,
          1720918065,
          1514239759,
          333202114,
          275349653,
          851085705,
          242070373,
          460156070,
          251153869,
          32942304,
          2014959725,
          787155930,
          292789738,
          818858244,
          1867736006,
          1872577908,
          720720922,
          37157630,
          631955547,
          1612286123,
          1185929926,
          1325725696,
          1754311538,
          1312168384,
          2516804300,
          2738293818,
          1003487432,
          1638836101,
          372423476,
          440364356,
          2072182782,
          827950825,
          1126986320,
          2074721986,
          804925777,
          1125681368,
          2011072164,
          2042792456,
          1128273165,
          1087938471,
          1189335848,
          795960535,
          8078265,
          1033109188,
          31612906,
          706356280,
          518846340,
          1823871908,
          205468104,
          2960046642,
          1353028938,
          1902241314,
          1262308912,
          298853393,
          717849037,
          837576264,
          1062095453,
          1339352060,
          503574147,
          1486929795,
          1993030264,
          853451422,
          1478442472,
          959639297,
          1977947460,
          777064903,
          736469450,
          1656385770,
          347647880,
          1108031580,
          2262490403,
          701558859,
          2529948475,
          1070422470,
          839405565,
          2218531106,
          1293773697,
          1398634184,
          547471596,
          1257974135,
          1733302434,
          1199270601,
          1355971796,
          1528107667,
          214598468,
          647201484,
          684853927,
          665519026,
          785016247,
          812274757,
          1984802459,
          805019111,
          1497511486,
          1119350842,
          337858357,
          390182196,
          1568058093,
          373898429,
          1358105253,
          911797058,
          1020452066,
          1178076856,
          394381902,
          410722289,
          350584176,
          732652170,
          356559943,
          676519766,
          81246715,
          1668741024,
          986132265,
          626010147,
          1606023895,
          1432830108,
          1223329465,
          1178076574,
          759374819,
          1885431727,
          159256689,
          1191635193,
          1349427877,
          54940563,
          1673557134,
          428164381,
          1838092894,
          1527106099,
          35244286,
          253464894,
          1439465700,
          1289186767,
          737097685,
          1927961994,
          179565178,
          32435333,
          568230113,
          412845771,
          66836198,
          1888829482,
          1151629030,
          318567928,
          1615353665,
          274229438,
          955439608,
          155390490,
          334578317,
          434019386,
          731933924,
          1829733410,
          343556188,
          425999315,
          1752826514,
          858059276,
          1379786786,
          136724343,
          2252713547,
          811700245,
          1615152539,
          28543791,
          502781351,
          1502382072,
          1198689895,
          1318254846,
          426341106,
          907346612,
          553783547,
          528420867,
          142945230,
          313693195,
          181784966,
          885756212,
          1878196824,
          912461674,
          1177960398,
          668103212,
          927908363,
          415699405,
          922761340,
          166866092,
          296399608,
          1429277695,
          907821800,
          818199643,
          205555865,
          1156060152,
          668285368,
          1285237951,
          1165842896,
          533416336,
          8757910,
          1053626902,
          395167576,
          573249007,
          226519256,
          2011121774,
          1432473324,
          1729264620,
          1736530084,
          815661095,
          276505971,
          979440925,
          337650898,
          1779046979,
          901486450,
          361219290,
          34996527,
          1128612961,
          1409692678,
          574357002,
          725214939,
          469322271,
          34304595,
          333339751,
          935042457,
          1596770801,
          7269751,
          1920784716,
          289304213,
          923823292,
          467454503,
          1176693861,
          2134271997,
          470659154,
          470340261,
          675591495,
          1452194416,
          323657766,
          1196521179,
          1448173030,
          459712644,
          889098343,
          1006124005,
          962634706,
          1517935273,
          191488217,
          320174752,
          1943842010,
          355203657,
          1680612367,
          1836362703,
          1265080733,
          1349115675,
          1157206056,
          690010618,
          954073526,
          686371118,
          502536183,
          1228556153,
          709850383,
          1602076880,
          168087455,
          1427792654,
          1056939084,
          214352397,
          1269607301,
          226233020,
          245513981,
          1907768690,
          819136167,
          558560568,
          155443055,
          221287566,
          831648193,
          674025091,
          700122551,
          545234876,
          699336080,
          716829483,
          1156191242,
          1030515485,
          978617707,
          675763141,
          1366479990,
          26972053,
          110573724,
          1355539058,
          1816356140,
          218035732,
          1592440653,
          723722454,
          1182373720,
          1532653504,
          624007138,
          647496971,
          1280838046,
          117717973,
          406141247,
          315680664,
          1263989128,
          1369299352,
          1389607643,
          1800254516,
          497832707,
          637836235,
          1411856834,
          817933263,
          725076772,
          1089328286,
          742515730,
          159181956,
          1399521364,
          724772954,
          1105805922,
          844630935,
          1790579305,
          932817713,
          333899135,
          1749088490,
          1013083048,
          184441175,
          377174503,
          1285518117,
          502655066,
          946842175,
          246224964,
          114992281,
          2080878370,
          356685934,
          368256958,
          1747534539,
          213405904,
          819779577,
          131938548,
          544165928,
          89513100,
          497682165,
          949835159,
          711861577,
          21803486,
          1152346128,
          16684393,
          13741023,
          1527159800,
          15557247,
          118490212,
          1549317525,
          603196133,
          415552038,
          196369387,
          1269760706,
          340227841,
          443093379,
          358240136,
          338097605,
          17917738,
          247682011,
          769061748,
          285481590,
          79786203,
          1331371819,
          652559944,
          142512477,
          1055558326,
          1042531612,
          1056929910,
          1474968552,
          150073848,
          641756842,
          786298066,
          19514243,
          1257258072,
          296828933,
          84655991,
          242661037,
          1456894713,
          1060378159,
          118804209,
          539802784,
          1654956613,
          1953403531,
          1394048309,
          582023797,
          721002104,
          20538101,
          2525355904,
          793287638,
          229120157,
          459282058,
          846909112,
          837042727,
          880781313,
          399707517,
          244709550,
          820923123,
          181457783,
          1634403761,
          296648613,
          1184536529,
          1472430869,
          460973352,
          234215735,
          535847791,
          1749353402,
          547114702,
          1104008150,
          701919939,
          861100951,
          65661355,
          871780891,
          1419912461,
          535013440,
          354097795,
          366872354,
          1070685587,
          711138043,
          331419634,
          251442618,
          600073400,
          614497357,
          20630900,
          106290197,
          268383799,
          235472222,
          967029446,
          1110994645,
          418181065,
          234350961,
          13606839,
          13700065,
          1778934858,
          1222228366,
          1306374052,
          562099076,
          300430813,
          831868563,
          1059940209,
          129427492,
          822696809,
          222879686,
          710319373,
          1784308411,
          36145614,
          972005229,
          459480135,
          8053814,
          416361102,
          996942947,
          492509763,
          225556005,
          1550553401,
          22692011,
          100360956,
          368429447,
          426936498,
          325654069,
          1667089416,
          1358424406,
          1422563654,
          150508549,
          684103586,
          962546385,
          568846143,
          703865912,
          472886929,
          401066217,
          228240866,
          511421362,
          29906024,
          315014005,
          503584339,
          8981282,
          36844307,
          1118459427,
          397988770,
          416388749,
          71586678,
          11581454,
          169162533,
          336943720,
          262185115,
          1397975653,
          352955079,
          1056346890,
          1150653471,
          1020435750,
          34621656,
          959313617,
          120595666,
          1599742798,
          572602278,
          154819909,
          654941874,
          1123039235,
          95341415,
          788282679,
          777305444,
          511726944,
          35864342,
          1625307365,
          1662288901,
          308738277,
          930004605,
          1120501187,
          452628341,
          562200390,
          269067890,
          432885913,
          1189579197,
          47364546,
          868744690,
          952635214,
          301396080,
          154018930,
          1425996809,
          1925879064,
          17589316,
          417634388,
          878349171,
          990518773,
          959078765,
          730200775,
          658225560,
          258769609,
          106514756,
          990189999,
          309329645,
          1232502989,
          689939531,
          915772593,
          1162659862,
          329763216,
          444613276,
          809840469,
          325902688,
          1436709386,
          303510160,
          258439807,
          856908437,
          767502068,
          363300065,
          1143172586,
          518293446,
          12367963,
          349522530,
          817199682,
          942637026,
          1503269550,
          1590278292,
          2397109372,
          1624314065,
          159483318,
          497062969,
          499262863,
          495840131,
          551035247,
          357445095,
          459476092,
          133152051,
          656416971,
          784096553,
          84030576,
          736983718,
          763384135,
          128049237,
          207857363,
          142131977,
          137071285,
          360816226,
          163958167,
          218471293,
          91143676,
          613000788,
          1145402792,
          21255074,
          975754682,
          1047154254,
          1034272727,
          389547230,
          950810060,
          413974601,
          542751537,
          1184571362,
          199444237,
          828103564,
          199846893,
          50824333,
          39157273,
          1595514674,
          814264073,
          477620800,
          1311631709,
          1020239582,
          1276685592,
          27120441,
          947763871,
          653352641,
          221406245,
          2098443322,
          323292046,
          427605317,
          884816583,
          2265551950,
          1368497471,
          549824221,
          39026522,
          469278591,
          316447060,
          551090518,
          565296902,
          1461578587,
          242528711,
          1335494972,
          717715448,
          833094374,
          366000029,
          1313274600,
          1656974409,
          717233625,
          789962731,
          188249146,
          139929615,
          1012914789,
          1229109018,
          266623831,
          1340305216,
          84848838,
          233212999,
          45351290,
          179452105,
          912294568,
          62158125,
          919756735,
          190497384,
          50652672,
          149095636,
          738909649,
          8857839,
          173018759,
          1638216382,
          567806129,
          48408512,
          940796773,
          283002053,
          160163510,
          194689239,
          458713465,
          1121107262,
          675082623,
          263851286,
          1036104210,
          173756454,
          847578246,
          1014870547,
          606284550,
          257812063,
          222975417,
          262504588,
          706489684,
          826685494,
          591704263,
          238718077,
          449513936,
          344369903,
          1949596473,
          580054244,
          1206495254,
          170829903,
          225128269,
          189577521,
          1365755853,
          304116211,
          661732009,
          229993968,
          515923885,
          71722674,
          304386086,
          223211332,
          697574595,
          1590659204,
          256121980,
          1273869800,
          595213841,
          371288040,
          175095439,
          780755736,
          168713011,
          20827832,
          20583156,
          184630078,
          594775179,
          808010338,
          178247858,
          150399875,
          1432465000,
          2123458039,
          975281654,
          942092206,
          54141672,
          11576361,
          884616492,
          1320205697,
          491242756,
          519330096,
          884825594,
          1293191157,
          534736940,
          475786302,
          156975001,
          19468909,
          842558786,
          12724701,
          440181206,
          39876490,
          30674267,
          1106264600,
          699374947,
          239288183,
          1120622892,
          863631428,
          1016283394,
          1017438306,
          540382129,
          1224136357,
          442472374,
          636986949,
          582823215,
          818413674,
          385438228,
          44365910,
          512194074,
          132870060,
          930662973,
          28658023,
          76959761,
          193854805,
          503972431,
          614050155,
          500671737,
          46650884,
          885944426,
          243125642,
          706711575,
          88673935,
          970858824,
          457254811,
          515582705,
          777947820,
          402007889,
          289624210,
          139208438,
          167668390,
          542480898,
          137204273,
          159980783,
          478086665,
          125445403,
          127558523,
          534374502,
          516560181,
          682383223,
          761287318,
          1164638213,
          41788648,
          1100392417,
          940914292,
          68372540,
          1225776509,
          1024198691,
          1187784950,
          249576970,
          637055162,
          657768560,
          379462137,
          85967228,
          1144535829,
          141252425,
          290154153,
          23649304,
          893876704,
          31940305,
          869024663,
          318340376,
          124020754,
          58496778,
          935098853,
          320586187,
          267897492,
          426439016,
          133353888,
          71190581,
          13671209,
          769295129,
          436133194,
          1878098512,
          192633758,
          261311116,
          185914923,
          137897920,
          1232373956,
          2086460781,
          21670034,
          293724552,
          438511316,
          365203093,
          1091185920,
          35473387,
          1476217041,
          452881574,
          518477840,
          73316998,
          1157112366,
          949312501,
          1532983094,
          666107710,
          407015049,
          560774282,
          462055272,
          1430439855,
          622690472,
          618671056,
          2194935773,
          844790027,
          69972816,
          509445605,
          596905923,
          10557337,
          1125407888,
          546219103,
          1327093253,
          189588270,
          1465918510,
          249199925,
          426904285,
          475549122,
          1303452422,
          457933102,
          415357981,
          144801283,
          79621215,
          2544489950,
          1046848265,
          751508028,
          105178211,
          970219741,
          1322385342,
          100186243,
          100397677,
          778846570,
          522143496,
          296674882,
          157476564,
          784334383,
          492542256,
          1284096603,
          210072827,
          335203899,
          1367265268,
          191465461,
          683247723,
          15290073,
          178441881,
          9428361,
          152289860,
          383171089,
          91124161,
          137276005,
          1405772026,
          1274848626,
          106759874,
          455718141,
          915557792,
          378668802,
          763292840,
          860596912,
          853574945,
          51862502,
          930343185,
          164667038,
          949651805,
          671310199,
          327311508,
          610838644,
          822935346,
          29089538,
          641453269,
          917916061,
          200017368,
          254191262,
          1879966374,
          1070923216,
          517990518,
          53590796,
          317252487,
          965827790,
          227893586,
          227893586,
          1214862854,
          523416171,
          387513964,
          510138748,
          599547543,
          573785235,
          22739117,
          895051532,
          261468916,
          727417273,
          669099980,
          540907681,
          97050082,
          918478800,
          44456165,
          445742307,
          687861392,
          451878749,
          350348521,
          217524988,
          418998816,
          16327372,
          391773238,
          24345826,
          639900946,
          359336745,
          188309858,
          247386146,
          275492185,
          1460945792,
          350802342,
          947770190,
          895496661,
          5942861,
          859999247,
          282776356,
          383945607,
          27026914,
          536110386,
          246425341,
          50171337,
          55157600,
          404765225,
          589145587,
          649191183,
          899830382,
          83966111,
          1120187276,
          410639967,
          15062636,
          1099069598,
          843861768,
          1014534913,
          662257934,
          223652808,
          15352061,
          307122295,
          247056218,
          410783411,
          897794289,
          1050246077,
          1007623089,
          181695722,
          281707091,
          675984633,
          965899534,
          1081039358,
          370988405,
          272051636,
          475820416,
          123627077,
          233573513,
          398942581,
          1587114096,
          1244864869,
          245384123,
          806728296,
          1687683940,
          152546936,
          413743535,
          658208129,
          631152992,
          1351515181,
          612159812,
          72773866,
          402771910,
          503296417,
          955547971,
          676690653,
          500508660,
          317919778,
          112629182,
          964058806,
          788403596,
          456241170,
          793528511,
          71320813,
          814272136,
          50498801,
          25813787,
          547304707,
          839642356,
          1254883107,
          1423655688,
          253890110,
          75979813,
          503904686,
          1006734157,
          423439672,
          212911684,
          123058600,
          767661283,
          806817589,
          34926866,
          91200208,
          30812151,
          9244547,
          395739041,
          778269101,
          1623436416,
          989672356,
          537163250,
          166436749,
          269363579,
          578464780,
          1291954163,
          209635991,
          899431434,
          987770768,
          1436087930,
          136778408,
          1336196012,
          1015965940,
          370800055,
          697834321,
          136709117,
          987061577,
          1125333823,
          609716786,
          1318596835,
          709560621,
          68705759,
          230129740,
          728920951,
          21488710,
          384965888,
          18800716,
          13092462,
          305830522,
          606603985,
          1081517243,
          356603747,
          192439879,
          521328627,
          886640358,
          548333714,
          331332225,
          968235402,
          14289955,
          946043494,
          834795353,
          886077008,
          502585349,
          827079737,
          20661452,
          862685616,
          29604808,
          662305046,
          45545495,
          693552475,
          69340146,
          522954525,
          127806442,
          201021118,
          107659341,
          342075557,
          516198914,
          924784325,
          13528794,
          49161062,
          43428134,
          240912994,
          159880836,
          13407929,
          718032755,
          717202437,
          934248345,
          1057114779,
          86564714,
          197477305,
          47329404,
          563826995,
          371463000,
          803286487,
          999525686,
          439281048,
          826593536,
          553360461,
          331749982,
          52602574,
          433309786,
          107592134,
          1531490541,
          38159739,
          1445950326,
          842749499,
          306952759,
          241293946,
          283406755,
          1216966135,
          1313545266,
          526007719,
          705672746,
          1050676021,
          33867992,
          1346174222,
          1188567787,
          437825141,
          731646994,
          49756092,
          526083566,
          941989512,
          13194395,
          223785164,
          183162195,
          350427750,
          2502925593,
          204730798,
          222400657,
          31438986,
          589832336,
          157676395,
          1779760815,
          84131713,
          786839663,
          613120952,
          503915156,
          678928131,
          54065563,
          252681087,
          219619875,
          145323071,
          657268053,
          12875105,
          840041803,
          1285242562,
          30160112,
          21255642,
          9327924,
          1535595924,
          404872050,
          597718233,
          981323727,
          809537829,
          18919068,
          426104353,
          56695409,
          320296093,
          362756358,
          16883730,
          209167955,
          126698724,
          1134470968,
          743015700,
          625999943,
          348372811,
          508914869,
          216252006,
          841183589,
          25134764,
          185817317,
          569767392,
          622498643,
          165916276,
          524463179,
          349849639,
          654828389,
          923637058,
          259288333,
          52510463,
          609984789,
          1060255231,
          135976140,
          457252350,
          360149048,
          8104357,
          324327622,
          261905370,
          358885100,
          973400151,
          10114922,
          190095480,
          2252713547,
          1044358962,
          733931275,
          732118596,
          155454907,
          94305899,
          654965766,
          587555589,
          156047755,
          41479958,
          26222603,
          1135588382,
          757789027,
          757522352,
          22463244,
          77975794,
          562983225,
          325264193,
          354643707,
          752708868,
          538918222,
          971172980,
          785139012,
          646295324,
          382565051,
          27813921,
          122568479,
          306652166,
          1062571821,
          296543065,
          597923434,
          549699659,
          383570519,
          248202976,
          34233316,
          621596476,
          1074175360,
          1583012380,
          845222205,
          917284463,
          15333864,
          13842105,
          1431126152,
          617991511,
          35185414,
          447997798,
          23061213,
          818926915,
          154127881,
          109868838,
          982399328,
          54477192,
          954807024,
          335212411,
          810044838,
          428290193,
          409608018,
          153478699,
          658966178,
          957810500,
          253540909,
          332741927,
          8033479,
          14500608,
          13330547,
          34042262,
          686323132,
          541018402,
          285889664,
          595564275,
          33845527,
          315336758,
          46945798,
          40072883,
          1088889743,
          13060347,
          25974901,
          223617742,
          24176156,
          404692736,
          740409304,
          1135209969,
          400479389,
          537523729,
          964765127,
          630863087,
          31380070,
          407701213,
          426609723,
          797648369,
          162889846,
          255973824,
          240686521,
          161990851,
          269671235,
          662971898,
          596164214,
          113567783,
          1068023888,
          486647778,
          63563583,
          12589295,
          640099263,
          520418822,
          680431508,
          433429705,
          293017219,
          699439249,
          265040914,
          387094388,
          52585215,
          19104053,
          318061543,
          166942258,
          1052473730,
          46082088,
          283455095,
          116625807,
          35384383,
          439395056,
          33677357,
          178339925,
          164856432,
          199953495,
          64143264,
          55080421,
          825465124,
          410897040,
          582549538,
          1069960318,
          363510259,
          433074753,
          948562412,
          1021647566,
          687212492,
          624262344,
          442614126,
          28452972,
          556176640,
          350440369,
          179176296,
          817054014,
          1483572312,
          1556326643,
          584357975,
          60355607,
          460008347,
          495063827,
          129531779,
          676325288,
          68965021,
          291244404,
          968810827,
          493444344,
          342872540,
          728140057,
          129635815,
          601202311,
          44619695,
          101903591,
          399145178,
          1145882592,
          13289346,
          1074583619,
          836267192,
          140228805,
          669703929,
          563467499,
          500565437,
          216298810,
          73821370,
          646744185,
          417168757,
          587054803,
          597591280,
          563680273,
          785571181,
          1070374387,
          531877344,
          803983295,
          662057533,
          855080751,
          404073512,
          333792226,
          285039741,
          14349985,
          365062854,
          112162450,
          2021910364,
          162085685,
          464203349,
          680707791,
          148341816,
          1064927546,
          108748134,
          1088273121,
          583209382,
          122999909,
          377242486,
          472408276,
          305049963
         ],
         "xaxis": "x",
         "yaxis": "y"
        },
        {
         "bingroup": "x",
         "hovertemplate": "popularity_bin=9<br>spotify_streams=%{x}<br>count=%{y}<extra></extra>",
         "legendgroup": "9",
         "marker": {
          "color": "#b5de2b",
          "line": {
           "color": "black",
           "width": 1
          },
          "pattern": {
           "shape": ""
          }
         },
         "name": "9",
         "nbinsx": 50,
         "orientation": "v",
         "showlegend": true,
         "type": "histogram",
         "x": [
          2031280633,
          670665438,
          900158751,
          90676573,
          925655569,
          91272461,
          1065399331,
          426700979,
          3107100349,
          124893397,
          670376179,
          750154960,
          759998727,
          1658229422,
          1126820069,
          997702304,
          59314441,
          493627071,
          168434320,
          3909458734,
          4281468720,
          1337619917,
          69729033,
          1811990630,
          466887055,
          1873746537,
          891720245,
          2996181078,
          692512930,
          1024381758,
          2969999682,
          860026452,
          1032225805,
          1563224246,
          1692951462,
          255076355,
          649404552,
          1013350808,
          359803580,
          609699748,
          478150858,
          205206688,
          1911559785,
          168145583,
          518988585,
          247399972,
          3358704125,
          3006226762,
          532605345,
          659010786,
          1607421145,
          438796949,
          3427498835,
          114574238,
          1721045197,
          2607121959,
          2548389305,
          77757035,
          72335127,
          1673557134,
          922010059,
          532012790,
          850810162,
          2167768056,
          630373315,
          2481391466,
          474590289,
          2880536961,
          689181455,
          606124553,
          1227475431,
          571366508,
          89362910,
          1421763497,
          971473231,
          872148396,
          222354971,
          361517395,
          2447973078,
          2384768901,
          721002940,
          684204777,
          1606950381,
          2184754018,
          33595707,
          1042311849,
          158131138,
          665716137,
          2708151499,
          172164034,
          1891920348,
          3291262413,
          2089476497,
          250430303,
          682837690,
          2596644721,
          521116293,
          403132906,
          1586830204,
          598006591,
          202667139,
          1777196966,
          462284590,
          509231024,
          1136504636,
          60240739,
          51198446,
          1615274494,
          675865902,
          890752779,
          965865213,
          29458027,
          84575291,
          406319778,
          272838329,
          1606975517,
          162165853,
          1995511952,
          1321878145,
          1746790923,
          2075459887,
          2306740926,
          77212437,
          642548537,
          180784576,
          1021480638,
          2147028486,
          1601293263,
          367399860,
          1249760413,
          121497542,
          45287928,
          637325281,
          2325017580,
          232417498,
          1670164200,
          1625149693,
          118631919,
          51390127,
          2065697126,
          141803939,
          2830962669,
          2226869580,
          284119669,
          1859886400,
          1916203330,
          891578597,
          629102459,
          2164074552,
          944833760,
          78227549,
          2313532702,
          2382407025,
          644437397,
          205050873,
          26891849,
          210385853,
          33661899,
          3192204066,
          1442703001,
          2423583406,
          188154454,
          717226454,
          1564979439,
          2396737761,
          1706325903,
          1456635235,
          2061017397,
          178413226,
          2043626431,
          1099019265,
          1780889877,
          74533081,
          513353284,
          111170278,
          198043685,
          1039482815,
          548724288,
          488979989,
          126619484,
          363816146,
          212122034,
          128833634,
          175336290,
          279667395,
          1709991997,
          66101468,
          1845938685,
          1532052160,
          2916412507,
          92517121,
          652949750,
          230291754,
          178950943,
          75894056,
          58469975,
          200151839,
          806918358,
          2270796677,
          166168092,
          2466006842,
          109149345,
          1244981489,
          123802404,
          33245898,
          1497564072,
          2235160830,
          123243341,
          1020452066,
          41924126,
          175613480,
          1133535049,
          2178606166,
          155648648,
          38139811,
          1156342373,
          1388024799,
          56282981,
          310562790,
          561645790,
          614603953,
          35980441,
          271566931,
          1724766252,
          1791778314,
          817286460,
          812954133,
          1828026153,
          59546208,
          161916445,
          63142772,
          206001461,
          196612187,
          25593926,
          219995278,
          2541833602,
          2097181065,
          50955386,
          183146334,
          165611453,
          1675083208,
          2544489950,
          1638529683,
          202633616,
          1165398518,
          1506766477,
          57562320,
          266560481,
          422186660,
          226576178,
          44991905,
          626153696,
          42032763,
          1307283069,
          1610423351,
          2099862852,
          1265397717,
          1413268808,
          1362614026,
          1690450389,
          276026602,
          111155129,
          221575551,
          31366703,
          1058390692,
          2004657631,
          789418331,
          1301573727,
          1305189811,
          1644031037,
          21644029,
          1780761618,
          188142444,
          1128783268,
          62552825,
          81942319,
          92573075,
          2045512421,
          2188592950,
          56343820,
          2444335468,
          1477150302,
          99946842,
          81694468,
          1086861259,
          1164166623,
          51637997,
          1480311407,
          41517704,
          31453044,
          100182006,
          1655539775,
          864865822,
          190634973,
          366169549,
          1307469137,
          1343672718,
          1676528402,
          52925522,
          145332157,
          216386557,
          1548151634,
          1631152967,
          807802864,
          1286089822,
          1335928309,
          1561518107,
          1410353130,
          266127900,
          1438795892,
          81775807,
          1720830668,
          1315024190,
          283079113,
          1256488099,
          1442872605,
          41114784,
          1435372572,
          2102223775,
          1299650856,
          1958809069,
          1315577954,
          145975016,
          1798020679,
          73192291,
          572628080,
          977870118,
          238841927,
          1687828519,
          1101296591,
          1427050913,
          476476352,
          2146682342,
          915401494,
          2174022106,
          1194124781,
          1490987063,
          1023825031,
          66225764,
          995463505,
          95980260,
          1407382497,
          2185240293,
          1275036167,
          1142061871,
          29683046,
          1429205245,
          18634348,
          1405353677,
          1283683926,
          1356969354,
          1350428257,
          159876075,
          1879386440,
          1129346989,
          1680919413,
          1102322992,
          1660504577,
          836491531,
          1657866786,
          28870396,
          1085436198,
          499764238,
          58823260,
          694094195,
          2106040891,
          307125680,
          1204914998,
          595930584,
          1903413912,
          367151355,
          991382346,
          858734232
         ],
         "xaxis": "x",
         "yaxis": "y"
        },
        {
         "bingroup": "x",
         "hovertemplate": "popularity_bin=10<br>spotify_streams=%{x}<br>count=%{y}<extra></extra>",
         "legendgroup": "10",
         "marker": {
          "color": "#fde725",
          "line": {
           "color": "black",
           "width": 1
          },
          "pattern": {
           "shape": ""
          }
         },
         "name": "10",
         "nbinsx": 50,
         "orientation": "v",
         "showlegend": true,
         "type": "histogram",
         "x": [
          390470936,
          323703884,
          601309283,
          107034922,
          675079153,
          250080413,
          221636195,
          355186436,
          395433400,
          1258569694,
          3301814535,
          547882871,
          591068364,
          311928522,
          775135157,
          214237645,
          169410711,
          343090427,
          106599323,
          207093873,
          273023490,
          100838516,
          176290078,
          2188247133,
          233969547,
          167431139,
          710784872,
          58810212,
          939627795,
          97601615
         ],
         "xaxis": "x",
         "yaxis": "y"
        }
       ],
       "layout": {
        "barmode": "relative",
        "legend": {
         "title": {
          "text": "Popularidad"
         },
         "tracegroupgap": 0
        },
        "template": {
         "data": {
          "bar": [
           {
            "error_x": {
             "color": "#2a3f5f"
            },
            "error_y": {
             "color": "#2a3f5f"
            },
            "marker": {
             "line": {
              "color": "#E5ECF6",
              "width": 0.5
             },
             "pattern": {
              "fillmode": "overlay",
              "size": 10,
              "solidity": 0.2
             }
            },
            "type": "bar"
           }
          ],
          "barpolar": [
           {
            "marker": {
             "line": {
              "color": "#E5ECF6",
              "width": 0.5
             },
             "pattern": {
              "fillmode": "overlay",
              "size": 10,
              "solidity": 0.2
             }
            },
            "type": "barpolar"
           }
          ],
          "carpet": [
           {
            "aaxis": {
             "endlinecolor": "#2a3f5f",
             "gridcolor": "white",
             "linecolor": "white",
             "minorgridcolor": "white",
             "startlinecolor": "#2a3f5f"
            },
            "baxis": {
             "endlinecolor": "#2a3f5f",
             "gridcolor": "white",
             "linecolor": "white",
             "minorgridcolor": "white",
             "startlinecolor": "#2a3f5f"
            },
            "type": "carpet"
           }
          ],
          "choropleth": [
           {
            "colorbar": {
             "outlinewidth": 0,
             "ticks": ""
            },
            "type": "choropleth"
           }
          ],
          "contour": [
           {
            "colorbar": {
             "outlinewidth": 0,
             "ticks": ""
            },
            "colorscale": [
             [
              0,
              "#0d0887"
             ],
             [
              0.1111111111111111,
              "#46039f"
             ],
             [
              0.2222222222222222,
              "#7201a8"
             ],
             [
              0.3333333333333333,
              "#9c179e"
             ],
             [
              0.4444444444444444,
              "#bd3786"
             ],
             [
              0.5555555555555556,
              "#d8576b"
             ],
             [
              0.6666666666666666,
              "#ed7953"
             ],
             [
              0.7777777777777778,
              "#fb9f3a"
             ],
             [
              0.8888888888888888,
              "#fdca26"
             ],
             [
              1,
              "#f0f921"
             ]
            ],
            "type": "contour"
           }
          ],
          "contourcarpet": [
           {
            "colorbar": {
             "outlinewidth": 0,
             "ticks": ""
            },
            "type": "contourcarpet"
           }
          ],
          "heatmap": [
           {
            "colorbar": {
             "outlinewidth": 0,
             "ticks": ""
            },
            "colorscale": [
             [
              0,
              "#0d0887"
             ],
             [
              0.1111111111111111,
              "#46039f"
             ],
             [
              0.2222222222222222,
              "#7201a8"
             ],
             [
              0.3333333333333333,
              "#9c179e"
             ],
             [
              0.4444444444444444,
              "#bd3786"
             ],
             [
              0.5555555555555556,
              "#d8576b"
             ],
             [
              0.6666666666666666,
              "#ed7953"
             ],
             [
              0.7777777777777778,
              "#fb9f3a"
             ],
             [
              0.8888888888888888,
              "#fdca26"
             ],
             [
              1,
              "#f0f921"
             ]
            ],
            "type": "heatmap"
           }
          ],
          "histogram": [
           {
            "marker": {
             "pattern": {
              "fillmode": "overlay",
              "size": 10,
              "solidity": 0.2
             }
            },
            "type": "histogram"
           }
          ],
          "histogram2d": [
           {
            "colorbar": {
             "outlinewidth": 0,
             "ticks": ""
            },
            "colorscale": [
             [
              0,
              "#0d0887"
             ],
             [
              0.1111111111111111,
              "#46039f"
             ],
             [
              0.2222222222222222,
              "#7201a8"
             ],
             [
              0.3333333333333333,
              "#9c179e"
             ],
             [
              0.4444444444444444,
              "#bd3786"
             ],
             [
              0.5555555555555556,
              "#d8576b"
             ],
             [
              0.6666666666666666,
              "#ed7953"
             ],
             [
              0.7777777777777778,
              "#fb9f3a"
             ],
             [
              0.8888888888888888,
              "#fdca26"
             ],
             [
              1,
              "#f0f921"
             ]
            ],
            "type": "histogram2d"
           }
          ],
          "histogram2dcontour": [
           {
            "colorbar": {
             "outlinewidth": 0,
             "ticks": ""
            },
            "colorscale": [
             [
              0,
              "#0d0887"
             ],
             [
              0.1111111111111111,
              "#46039f"
             ],
             [
              0.2222222222222222,
              "#7201a8"
             ],
             [
              0.3333333333333333,
              "#9c179e"
             ],
             [
              0.4444444444444444,
              "#bd3786"
             ],
             [
              0.5555555555555556,
              "#d8576b"
             ],
             [
              0.6666666666666666,
              "#ed7953"
             ],
             [
              0.7777777777777778,
              "#fb9f3a"
             ],
             [
              0.8888888888888888,
              "#fdca26"
             ],
             [
              1,
              "#f0f921"
             ]
            ],
            "type": "histogram2dcontour"
           }
          ],
          "mesh3d": [
           {
            "colorbar": {
             "outlinewidth": 0,
             "ticks": ""
            },
            "type": "mesh3d"
           }
          ],
          "parcoords": [
           {
            "line": {
             "colorbar": {
              "outlinewidth": 0,
              "ticks": ""
             }
            },
            "type": "parcoords"
           }
          ],
          "pie": [
           {
            "automargin": true,
            "type": "pie"
           }
          ],
          "scatter": [
           {
            "fillpattern": {
             "fillmode": "overlay",
             "size": 10,
             "solidity": 0.2
            },
            "type": "scatter"
           }
          ],
          "scatter3d": [
           {
            "line": {
             "colorbar": {
              "outlinewidth": 0,
              "ticks": ""
             }
            },
            "marker": {
             "colorbar": {
              "outlinewidth": 0,
              "ticks": ""
             }
            },
            "type": "scatter3d"
           }
          ],
          "scattercarpet": [
           {
            "marker": {
             "colorbar": {
              "outlinewidth": 0,
              "ticks": ""
             }
            },
            "type": "scattercarpet"
           }
          ],
          "scattergeo": [
           {
            "marker": {
             "colorbar": {
              "outlinewidth": 0,
              "ticks": ""
             }
            },
            "type": "scattergeo"
           }
          ],
          "scattergl": [
           {
            "marker": {
             "colorbar": {
              "outlinewidth": 0,
              "ticks": ""
             }
            },
            "type": "scattergl"
           }
          ],
          "scattermap": [
           {
            "marker": {
             "colorbar": {
              "outlinewidth": 0,
              "ticks": ""
             }
            },
            "type": "scattermap"
           }
          ],
          "scattermapbox": [
           {
            "marker": {
             "colorbar": {
              "outlinewidth": 0,
              "ticks": ""
             }
            },
            "type": "scattermapbox"
           }
          ],
          "scatterpolar": [
           {
            "marker": {
             "colorbar": {
              "outlinewidth": 0,
              "ticks": ""
             }
            },
            "type": "scatterpolar"
           }
          ],
          "scatterpolargl": [
           {
            "marker": {
             "colorbar": {
              "outlinewidth": 0,
              "ticks": ""
             }
            },
            "type": "scatterpolargl"
           }
          ],
          "scatterternary": [
           {
            "marker": {
             "colorbar": {
              "outlinewidth": 0,
              "ticks": ""
             }
            },
            "type": "scatterternary"
           }
          ],
          "surface": [
           {
            "colorbar": {
             "outlinewidth": 0,
             "ticks": ""
            },
            "colorscale": [
             [
              0,
              "#0d0887"
             ],
             [
              0.1111111111111111,
              "#46039f"
             ],
             [
              0.2222222222222222,
              "#7201a8"
             ],
             [
              0.3333333333333333,
              "#9c179e"
             ],
             [
              0.4444444444444444,
              "#bd3786"
             ],
             [
              0.5555555555555556,
              "#d8576b"
             ],
             [
              0.6666666666666666,
              "#ed7953"
             ],
             [
              0.7777777777777778,
              "#fb9f3a"
             ],
             [
              0.8888888888888888,
              "#fdca26"
             ],
             [
              1,
              "#f0f921"
             ]
            ],
            "type": "surface"
           }
          ],
          "table": [
           {
            "cells": {
             "fill": {
              "color": "#EBF0F8"
             },
             "line": {
              "color": "white"
             }
            },
            "header": {
             "fill": {
              "color": "#C8D4E3"
             },
             "line": {
              "color": "white"
             }
            },
            "type": "table"
           }
          ]
         },
         "layout": {
          "annotationdefaults": {
           "arrowcolor": "#2a3f5f",
           "arrowhead": 0,
           "arrowwidth": 1
          },
          "autotypenumbers": "strict",
          "coloraxis": {
           "colorbar": {
            "outlinewidth": 0,
            "ticks": ""
           }
          },
          "colorscale": {
           "diverging": [
            [
             0,
             "#8e0152"
            ],
            [
             0.1,
             "#c51b7d"
            ],
            [
             0.2,
             "#de77ae"
            ],
            [
             0.3,
             "#f1b6da"
            ],
            [
             0.4,
             "#fde0ef"
            ],
            [
             0.5,
             "#f7f7f7"
            ],
            [
             0.6,
             "#e6f5d0"
            ],
            [
             0.7,
             "#b8e186"
            ],
            [
             0.8,
             "#7fbc41"
            ],
            [
             0.9,
             "#4d9221"
            ],
            [
             1,
             "#276419"
            ]
           ],
           "sequential": [
            [
             0,
             "#0d0887"
            ],
            [
             0.1111111111111111,
             "#46039f"
            ],
            [
             0.2222222222222222,
             "#7201a8"
            ],
            [
             0.3333333333333333,
             "#9c179e"
            ],
            [
             0.4444444444444444,
             "#bd3786"
            ],
            [
             0.5555555555555556,
             "#d8576b"
            ],
            [
             0.6666666666666666,
             "#ed7953"
            ],
            [
             0.7777777777777778,
             "#fb9f3a"
            ],
            [
             0.8888888888888888,
             "#fdca26"
            ],
            [
             1,
             "#f0f921"
            ]
           ],
           "sequentialminus": [
            [
             0,
             "#0d0887"
            ],
            [
             0.1111111111111111,
             "#46039f"
            ],
            [
             0.2222222222222222,
             "#7201a8"
            ],
            [
             0.3333333333333333,
             "#9c179e"
            ],
            [
             0.4444444444444444,
             "#bd3786"
            ],
            [
             0.5555555555555556,
             "#d8576b"
            ],
            [
             0.6666666666666666,
             "#ed7953"
            ],
            [
             0.7777777777777778,
             "#fb9f3a"
            ],
            [
             0.8888888888888888,
             "#fdca26"
            ],
            [
             1,
             "#f0f921"
            ]
           ]
          },
          "colorway": [
           "#636efa",
           "#EF553B",
           "#00cc96",
           "#ab63fa",
           "#FFA15A",
           "#19d3f3",
           "#FF6692",
           "#B6E880",
           "#FF97FF",
           "#FECB52"
          ],
          "font": {
           "color": "#2a3f5f"
          },
          "geo": {
           "bgcolor": "white",
           "lakecolor": "white",
           "landcolor": "#E5ECF6",
           "showlakes": true,
           "showland": true,
           "subunitcolor": "white"
          },
          "hoverlabel": {
           "align": "left"
          },
          "hovermode": "closest",
          "mapbox": {
           "style": "light"
          },
          "paper_bgcolor": "white",
          "plot_bgcolor": "#E5ECF6",
          "polar": {
           "angularaxis": {
            "gridcolor": "white",
            "linecolor": "white",
            "ticks": ""
           },
           "bgcolor": "#E5ECF6",
           "radialaxis": {
            "gridcolor": "white",
            "linecolor": "white",
            "ticks": ""
           }
          },
          "scene": {
           "xaxis": {
            "backgroundcolor": "#E5ECF6",
            "gridcolor": "white",
            "gridwidth": 2,
            "linecolor": "white",
            "showbackground": true,
            "ticks": "",
            "zerolinecolor": "white"
           },
           "yaxis": {
            "backgroundcolor": "#E5ECF6",
            "gridcolor": "white",
            "gridwidth": 2,
            "linecolor": "white",
            "showbackground": true,
            "ticks": "",
            "zerolinecolor": "white"
           },
           "zaxis": {
            "backgroundcolor": "#E5ECF6",
            "gridcolor": "white",
            "gridwidth": 2,
            "linecolor": "white",
            "showbackground": true,
            "ticks": "",
            "zerolinecolor": "white"
           }
          },
          "shapedefaults": {
           "line": {
            "color": "#2a3f5f"
           }
          },
          "ternary": {
           "aaxis": {
            "gridcolor": "white",
            "linecolor": "white",
            "ticks": ""
           },
           "baxis": {
            "gridcolor": "white",
            "linecolor": "white",
            "ticks": ""
           },
           "bgcolor": "#E5ECF6",
           "caxis": {
            "gridcolor": "white",
            "linecolor": "white",
            "ticks": ""
           }
          },
          "title": {
           "x": 0.05
          },
          "xaxis": {
           "automargin": true,
           "gridcolor": "white",
           "linecolor": "white",
           "ticks": "",
           "title": {
            "standoff": 15
           },
           "zerolinecolor": "white",
           "zerolinewidth": 2
          },
          "yaxis": {
           "automargin": true,
           "gridcolor": "white",
           "linecolor": "white",
           "ticks": "",
           "title": {
            "standoff": 15
           },
           "zerolinecolor": "white",
           "zerolinewidth": 2
          }
         }
        },
        "title": {
         "text": "Streams según Popularidad (1–10)"
        },
        "xaxis": {
         "anchor": "y",
         "domain": [
          0,
          1
         ],
         "title": {
          "text": "Número de Streams"
         }
        },
        "yaxis": {
         "anchor": "x",
         "domain": [
          0,
          1
         ],
         "title": {
          "text": "Número de Canciones"
         }
        }
       }
      }
     },
     "metadata": {},
     "output_type": "display_data"
    }
   ],
   "source": [
    "# Histograma que muestra la distribución de los streams de una canción \n",
    "\n",
    "# Crear bins para la popularidad de las canciones de 1-10\n",
    "spotify_df[\"popularity_bin\"] = pd.cut(\n",
    "    spotify_df[\"spotify_popularity\"],\n",
    "    bins=10,        # 10 intervalos iguales\n",
    "    labels=range(1, 11), # etiquetas 1–10\n",
    "    ordered=True\n",
    ")\n",
    "\n",
    "fig = px.histogram(\n",
    "    spotify_df,\n",
    "    x='spotify_streams',\n",
    "    nbins=50,\n",
    "    color=\"popularity_bin\",\n",
    "    category_orders={'popularity_bin': [1, 2, 3, 4, 5, 6, 7, 8, 9, 10]},\n",
    "    title='Streams según Popularidad (1–10)',\n",
    "    color_discrete_sequence=px.colors.sequential.Viridis)\n",
    "\n",
    "fig.update_layout(\n",
    "    xaxis_title='Número de Streams',\n",
    "    yaxis_title='Número de Canciones',\n",
    "    legend_title='Popularidad',\n",
    "    \n",
    ")\n",
    "\n",
    "\n",
    "\n",
    "fig.update_traces(\n",
    "    marker=dict(\n",
    "        line=dict(\n",
    "            width=1,        # grosor del borde\n",
    "            color=\"black\"   # color del borde\n",
    "        )\n",
    "    )\n",
    ")\n",
    "\n",
    "fig.show()"
   ]
  },
  {
   "cell_type": "code",
   "execution_count": null,
   "id": "34c47d27",
   "metadata": {},
   "outputs": [
    {
     "data": {
      "application/vnd.plotly.v1+json": {
       "config": {
        "plotlyServerURL": "https://plot.ly"
       },
       "data": [
        {
         "hovertemplate": "popularity_bin=%{marker.size}<br>release_year=%{x}<br>spotify_streams=%{y}<extra></extra>",
         "legendgroup": "1",
         "marker": {
          "color": "rgb(127, 60, 141)",
          "opacity": 0.4,
          "size": {
           "bdata": "AQEBAQEBAQEBAQEBAQEBAQEBAQEBAQEBAQEBAQEBAQEBAQEBAQEBAQEBAQEBAQEBAQEBAQEBAQEBAQEBAQEBAQEBAQEBAQEBAQEBAQEBAQEBAQEBAQEBAQEBAQEBAQEBAQEBAQEBAQE=",
           "dtype": "i1"
          },
          "sizemode": "area",
          "sizeref": 0.025,
          "symbol": "circle"
         },
         "mode": "markers",
         "name": "1",
         "showlegend": true,
         "type": "scattergl",
         "x": {
          "bdata": "5wcAAOcHAADmBwAA6AcAAOYHAADnBwAA6AcAAOgHAADoBwAA5wcAAOUHAADhBwAA5wcAAOYHAADkBwAA5wcAAOcHAADnBwAA5wcAAOYHAADlBwAA4gcAAOcHAADlBwAA5wcAAOcHAADmBwAA5gcAAOgHAADoBwAA5wcAAOUHAADfBwAA5wcAAOcHAADnBwAA5wcAAOYHAADnBwAA5gcAAOcHAADnBwAA6AcAAOcHAADiBwAA4QcAAOcHAADnBwAA5wcAAOgHAADnBwAA5gcAAOgHAADnBwAA5wcAAOIHAADmBwAA5gcAAOYHAADmBwAA5wcAAOcHAADmBwAA5wcAAOYHAADnBwAA5gcAAOcHAADnBwAA5gcAAOgHAADnBwAA5AcAAOcHAADnBwAA5wcAAOcHAADkBwAA5gcAAOUHAADmBwAA6AcAAOYHAADnBwAA4gcAAOYHAADmBwAA5gcAAOEHAADjBwAA5wcAAOgHAADjBwAA6AcAAOcHAADnBwAA6AcAAOcHAADlBwAA5wcAAOAHAADmBwAA5gcAAOEHAAA=",
          "dtype": "i4"
         },
         "xaxis": "x",
         "y": {
          "bdata": "57UAAOUeAADC7wEAzmOGByy9AAB7fAAA5dAeCFteIwW0a+cCYCwAAFBGAgDwOAcARmt5CU6dgguHkCIcaDN1OyqhUAal7goAiTQBAPc+AAAZzXYbWqMEAGB/oQdtEO4fzjEAANFzAAAmoQAA7gcAALijlwLXOKUB0dbYBMaULgC1PFpbzTnXBdkMJQpnYQAAsBwBAP4Ilz2cGAAAgn8AABXd4QTZCAAAPcp2AOsNnQCyQ4Eb89gEGDopAAAm8XUHHEcAAJBeMQE4uNcACioAAI3vIALOngAAQs8AAKuRAACtQzcOpBwAAAwJAQBkG4QDB1RNAjk/aAmUzQEAeSAAAPYNAAATYEUARwkAAKgfAADbPAAAv3IAAETvEgReNvgBF+wAFPKMeAA50AAAuC4AABfXRwFxeRgKb7ydCHlL8gb+YTsKrzeAAT2Usgo3IwAAi8hRF+idBABaVwAAnG8/A/sOAADqkwAAzAkAAFdNbwG5ATAOMVk+AuAHuAV3AuoA03UiBZjJSAibDgAAqSYAAHXGCACypRxrd1EAAHXJ7gQ=",
          "dtype": "i4"
         },
         "yaxis": "y"
        },
        {
         "hovertemplate": "popularity_bin=%{marker.size}<br>release_year=%{x}<br>spotify_streams=%{y}<extra></extra>",
         "legendgroup": "2",
         "marker": {
          "color": "rgb(17, 165, 121)",
          "opacity": 0.4,
          "size": {
           "bdata": "AgICAgICAgICAgICAgICAgICAgICAgICAgICAgICAgICAgICAgICAgICAgICAgICAgICAgICAgICAgICAgICAg==",
           "dtype": "i1"
          },
          "sizemode": "area",
          "sizeref": 0.025,
          "symbol": "circle"
         },
         "mode": "markers",
         "name": "2",
         "showlegend": true,
         "type": "scattergl",
         "x": {
          "bdata": "5gcAAOcHAADmBwAA5wcAAOcHAADoBwAA5wcAAOUHAADmBwAA4gcAAOgHAADkBwAA4gcAAOcHAADnBwAA5wcAAOcHAADoBwAA5gcAAOgHAADlBwAA5gcAAOcHAADnBwAA5wcAAOcHAADnBwAA5AcAAOMHAADmBwAA5wcAAOUHAADoBwAA5wcAAOgHAADmBwAA4wcAAOIHAADnBwAA4gcAAOEHAADoBwAA5wcAAOgHAADjBwAA3gcAAOgHAADeBwAA5gcAAOgHAADmBwAA6AcAAOIHAADnBwAA5gcAAOYHAADnBwAA5gcAAOYHAADjBwAA5gcAAOgHAADmBwAA5gcAAA==",
          "dtype": "i4"
         },
         "xaxis": "x",
         "y": [
          297185,
          55346,
          158627,
          998964097,
          26674909,
          108501771,
          42761,
          879708559,
          720822868,
          2143821605,
          152597421,
          1320495311,
          952626904,
          119445482,
          125047,
          408449,
          433515672,
          34629239,
          108133711,
          72952792,
          861521,
          278318,
          1666699743,
          7403756,
          57151,
          95871805,
          44047842,
          1415206,
          532262,
          56670689,
          149455007,
          607726217,
          306040,
          84198,
          3589,
          72997,
          4078322,
          2447043,
          174154846,
          374553396,
          253490559,
          28563790,
          139751220,
          43499127,
          1060667446,
          2379787239,
          168750749,
          93040974,
          433037,
          40620097,
          80585683,
          56463608,
          466462034,
          37199,
          752826,
          49081,
          301362,
          551388,
          8434856,
          257646451,
          108439,
          41904754,
          32753,
          330280
         ],
         "yaxis": "y"
        },
        {
         "hovertemplate": "popularity_bin=%{marker.size}<br>release_year=%{x}<br>spotify_streams=%{y}<extra></extra>",
         "legendgroup": "3",
         "marker": {
          "color": "rgb(57, 105, 172)",
          "opacity": 0.4,
          "size": {
           "bdata": "AwMDAwMDAwMDAwMDAwMDAwMDAwMDAwMDAwMDAwMDAwMDAwMDAwMDAwMDAwMDAwMDAwMD",
           "dtype": "i1"
          },
          "sizemode": "area",
          "sizeref": 0.025,
          "symbol": "circle"
         },
         "mode": "markers",
         "name": "3",
         "showlegend": true,
         "type": "scattergl",
         "x": {
          "bdata": "5wcAAOYHAADmBwAA6AcAAOcHAADmBwAA4QcAAOYHAADnBwAA6AcAAOYHAADnBwAA4gcAAOMHAADmBwAA6AcAAOQHAADnBwAA3gcAAOYHAADoBwAA5wcAAOcHAADjBwAA5wcAAOMHAADmBwAA5AcAAOgHAADmBwAA4wcAAOYHAADiBwAA5gcAAN0HAADhBwAA3wcAAOUHAADkBwAA6AcAAOcHAADmBwAA5gcAAOUHAADmBwAA4gcAAOQHAADnBwAA5gcAAOYHAADmBwAA",
          "dtype": "i4"
         },
         "xaxis": "x",
         "y": {
          "bdata": "T5cBADheCACeyhEAyqaXEhxqHgALKAoA92WRfowtAgDYvKYKsd0iAK5bHAAN09YRZtL2TNSXCQDZhgwASCCmAs/q4WOI1AYA4a9TAMIkBwAhn4wAJE4HAON1BgDUnpUdqSUEAMyRXgCfSzUAvHGMH/YngAKPWJYCq5UKAElXCAClYCwqkmUHMiRwHi73fapN7m10ATuSFgAyDh4AH0E+Amr5UwJP/wEAfxk1AE4kBAD9VQMALkcnAJj9nhZTDpoGqdEjANSqLBA3sgMA",
          "dtype": "i4"
         },
         "yaxis": "y"
        },
        {
         "hovertemplate": "popularity_bin=%{marker.size}<br>release_year=%{x}<br>spotify_streams=%{y}<extra></extra>",
         "legendgroup": "4",
         "marker": {
          "color": "rgb(242, 183, 1)",
          "opacity": 0.4,
          "size": {
           "bdata": "BAQEBAQEBAQEBAQEBAQEBAQEBAQEBAQEBAQEBAQEBAQEBAQEBAQEBAQEBAQEBAQEBAQEBAQEBAQE",
           "dtype": "i1"
          },
          "sizemode": "area",
          "sizeref": 0.025,
          "symbol": "circle"
         },
         "mode": "markers",
         "name": "4",
         "showlegend": true,
         "type": "scattergl",
         "x": {
          "bdata": "5gcAAOcHAADkBwAA6AcAAOcHAADmBwAA5wcAAOcHAADnBwAA5AcAANsHAADhBwAA2QcAAOYHAADmBwAA5wcAAOcHAADnBwAA5wcAAOIHAADmBwAA5gcAAOcHAADlBwAA5wcAAOcHAADiBwAA4QcAAOcHAADhBwAA5gcAAOcHAADlBwAA2gcAAOYHAADbBwAA5AcAAOUHAADnBwAA5gcAAOcHAADhBwAA5gcAAOQHAADmBwAA5AcAAOYHAADnBwAA5AcAAOUHAADfBwAA5gcAANoHAADmBwAA6AcAAOUHAADiBwAA",
          "dtype": "i4"
         },
         "xaxis": "x",
         "y": {
          "bdata": "56ZwAL4IFQCmGyMAHqeaAFXr2wiYfxIAeFP3Dxl29QNzQgUAecKgAeUhrwDW5HQAVD6kCouSMQD1SRAC/iikDLQxIAChmS8A/SAcACqDWQBTijUA0IZSADnCBQC2dUAA6MgAAhHHYwgKcqJVCfz+VMqFCACKV2sL0moaAEXhJwBonYcAEZ1QAEipNADjcKoAIErTAFU0kgaUMFMIngaKACH/JQDhBVMBRJoYAMVSWwCTnRAAUWxTAN0O9AIeTwcAkzVPAJ/RVwDrQWVMqEoLAFIeNABaRkcA3NLIAb53gxDvOQYD",
          "dtype": "i4"
         },
         "yaxis": "y"
        },
        {
         "hovertemplate": "popularity_bin=%{marker.size}<br>release_year=%{x}<br>spotify_streams=%{y}<extra></extra>",
         "legendgroup": "5",
         "marker": {
          "color": "rgb(231, 63, 116)",
          "opacity": 0.4,
          "size": {
           "bdata": "BQUFBQUFBQUFBQUFBQUFBQUFBQUFBQUFBQUFBQUFBQUFBQUFBQUFBQUFBQUFBQUFBQUFBQUFBQUFBQUFBQUFBQUFBQUFBQUFBQUFBQUFBQUFBQUFBQUFBQUFBQUFBQUFBQUFBQUFBQUFBQUFBQ==",
           "dtype": "i1"
          },
          "sizemode": "area",
          "sizeref": 0.025,
          "symbol": "circle"
         },
         "mode": "markers",
         "name": "5",
         "showlegend": true,
         "type": "scattergl",
         "x": {
          "bdata": "5wcAAOQHAADmBwAA5wcAAOcHAADnBwAA5AcAAOMHAADnBwAA5gcAAOcHAADmBwAA4wcAAOMHAADnBwAA5wcAAOcHAADnBwAA4wcAAOcHAADjBwAA6AcAAOgHAADjBwAA5wcAAOYHAADmBwAA5QcAAOQHAADmBwAA5gcAAOMHAADiBwAA5wcAAOEHAADVBwAA5wcAAOUHAADlBwAA5wcAAOQHAADnBwAA5wcAAOYHAADnBwAA5gcAAOIHAADjBwAA5gcAAOYHAADmBwAA5AcAAOMHAADlBwAA3AcAAOUHAADnBwAA5AcAAOUHAADmBwAA5gcAAOUHAADnBwAA4QcAAN0HAADlBwAA4QcAAOUHAADnBwAA5QcAAOUHAADlBwAA5AcAAOEHAADiBwAA4AcAAOYHAADmBwAA5wcAAOcHAADkBwAA5QcAAOAHAADmBwAA6AcAAOMHAADlBwAA5wcAAOUHAADlBwAA5QcAAOUHAADhBwAA5wcAAOQHAADkBwAA5wcAAOQHAADmBwAA5gcAAOYHAADmBwAA5wcAAOQHAADlBwAA4gcAAOUHAADjBwAA4AcAAA==",
          "dtype": "i4"
         },
         "xaxis": "x",
         "y": [
          170970614,
          61382407,
          5712985,
          3913988,
          8028757,
          861388470,
          90383224,
          27747363,
          121234000,
          17992999,
          1867282,
          419016792,
          52830200,
          40284121,
          16264949,
          24215252,
          18637452,
          24963236,
          173526912,
          8517888,
          49585127,
          899456,
          184278,
          92985109,
          112737954,
          17756452,
          13219831,
          541105655,
          33384757,
          2035613,
          1087201670,
          35269135,
          1655575417,
          142783595,
          67890975,
          16326628,
          43921455,
          1902241314,
          1823871908,
          3608717,
          12208412,
          241174958,
          19617254,
          53532212,
          47296342,
          17075528,
          30173434,
          28185177,
          777305444,
          811888874,
          2248788,
          55312275,
          170646969,
          21634137,
          1226381432,
          9126545,
          8470479,
          80772450,
          27327435,
          971473231,
          665145968,
          2014959725,
          41059494,
          82539441,
          2188592950,
          11569095,
          55362558,
          8316794,
          17745591,
          74338196,
          25893883,
          34116353,
          10848948,
          54678867,
          1953403531,
          936450891,
          26054526,
          162054666,
          4168391,
          13502324,
          164007720,
          39793463,
          71345247,
          36861625,
          5200791,
          76516847,
          7762464,
          11923405,
          28805237,
          21970517,
          146709792,
          25149668,
          563366391,
          6231986,
          34096694,
          18566967,
          4943057,
          93229994,
          7383901,
          12383314,
          18611163,
          14566339,
          19690183,
          164542767,
          68273832,
          41808541,
          22697447,
          128411645,
          21092086
         ],
         "yaxis": "y"
        },
        {
         "hovertemplate": "popularity_bin=%{marker.size}<br>release_year=%{x}<br>spotify_streams=%{y}<extra></extra>",
         "legendgroup": "6",
         "marker": {
          "color": "rgb(128, 186, 90)",
          "opacity": 0.4,
          "size": {
           "bdata": "BgYGBgYGBgYGBgYGBgYGBgYGBgYGBgYGBgYGBgYGBgYGBgYGBgYGBgYGBgYGBgYGBgYGBgYGBgYGBgYGBgYGBgYGBgYGBgYGBgYGBgYGBgYGBgYGBgYGBgYGBgYGBgYGBgYGBgYGBgYGBgYGBgYGBgYGBgYGBgYGBgYGBgYGBgYGBgYGBgYGBgYGBgYGBgYGBgYGBgYGBgYGBgYGBgYGBgYGBgYGBgYGBgYGBgYGBgYGBgYGBgYGBgYGBgYGBgYGBgYGBgYGBgYGBgYGBgYGBgYGBgYGBgYGBgYGBgYGBgYGBgYGBgYGBgYGBgYGBgYGBgYGBgYGBgYGBgYGBgYGBgYGBgYGBgYGBgYGBgYGBgYGBgYGBgYGBgYGBgYGBgYGBgYGBgYGBgYGBgYGBgYGBgYGBgYGBgYGBgYGBgYGBgYGBgYGBgYGBgYGBgYGBgYGBgYGBgYGBgYGBgYGBgYGBgYGBgYGBgYGBgYGBgYGBgYGBgYGBgYGBgYGBgY=",
           "dtype": "i1"
          },
          "sizemode": "area",
          "sizeref": 0.025,
          "symbol": "circle"
         },
         "mode": "markers",
         "name": "6",
         "showlegend": true,
         "type": "scattergl",
         "x": {
          "bdata": "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",
          "dtype": "i4"
         },
         "xaxis": "x",
         "y": [
          86516910,
          631378937,
          29994527,
          428986855,
          14645123,
          43286859,
          922010059,
          36007719,
          21236593,
          48929060,
          40178056,
          171856399,
          85068645,
          391856304,
          54513960,
          574505748,
          171118535,
          16197748,
          121214716,
          144985656,
          73468394,
          341742937,
          121391098,
          86295058,
          317223968,
          257167813,
          23823099,
          2167768056,
          23191929,
          164137928,
          28340672,
          8699917,
          24285898,
          465348362,
          102668822,
          86327319,
          72849488,
          218661601,
          648757330,
          347218974,
          27444985,
          12933566,
          89701636,
          54104852,
          361357607,
          218205900,
          2902263,
          57370965,
          1663491433,
          105604106,
          37027643,
          24806000,
          83801298,
          277505000,
          96829196,
          740261910,
          13615330,
          270364614,
          1891920348,
          331775657,
          426425213,
          204471704,
          70868414,
          44345269,
          187646063,
          812954133,
          183453795,
          110291303,
          174403309,
          62243984,
          527632887,
          89815962,
          508151972,
          60103893,
          1995511952,
          411109963,
          34566972,
          355833360,
          76630812,
          35004403,
          23883628,
          125396685,
          17080355,
          849055927,
          50831625,
          470358238,
          86910140,
          37248788,
          42993944,
          800203170,
          24195796,
          115647691,
          352258962,
          17675254,
          16483067,
          120054361,
          17389541,
          142817891,
          53064181,
          39899018,
          254118106,
          10296798,
          2279039,
          44751795,
          70622319,
          72348363,
          67999897,
          308915484,
          306221125,
          38260236,
          149801910,
          550049388,
          104073182,
          136999598,
          100335960,
          83366020,
          86943003,
          240138585,
          2184754018,
          86262202,
          166427224,
          3107100349,
          2409532,
          11029541,
          47723324,
          354683755,
          14394612,
          32318892,
          155050178,
          243305603,
          488713982,
          64013323,
          133061000,
          214391030,
          86387703,
          52418564,
          28240865,
          138100044,
          10423140,
          58652026,
          236644328,
          34026239,
          62458329,
          168710415,
          577534277,
          79738242,
          108241832,
          79783827,
          92120986,
          47325533,
          492873992,
          32244050,
          475881575,
          169896142,
          20588020,
          275416061,
          168963270,
          28739240,
          14167450,
          143421888,
          224367887,
          265244748,
          58058696,
          239850720,
          187818818,
          21081306,
          242892279,
          68460285,
          1356969354,
          266525796,
          35308201,
          258464933,
          257661585,
          314089265,
          75717094,
          171728710,
          32433183,
          204236514,
          44122161,
          77941531,
          75577819,
          41255598,
          32018123,
          476699016,
          184246401,
          19938326,
          153042459,
          121466936,
          19182347,
          15832405,
          254130819,
          65786757,
          129283318,
          110960415,
          397893665,
          142352659,
          46356684,
          61704511,
          45382812,
          22007314,
          92896589,
          191569959,
          30361093,
          359828344,
          94152948,
          21188649,
          57146959,
          312678365,
          142075177,
          94677649,
          64851689,
          22148259,
          103549505,
          46615691,
          207093355,
          40358575,
          186233910,
          317302250,
          162551255,
          133039977,
          158404124,
          60358583,
          63442980,
          224376030,
          174090982,
          231155441,
          261207310,
          64612903,
          881858,
          92866817,
          222571023,
          381166294,
          332224927,
          86132200,
          458706557,
          224150665,
          143152814,
          43844757,
          10694922,
          46872738,
          28945482,
          229366200,
          79045342,
          128264127,
          162240700,
          92536126,
          8388731,
          14329936,
          210287302,
          1065399331,
          66701855,
          95962246,
          161145820,
          208249257,
          921936314,
          177369022,
          22317486,
          265126606,
          53980875,
          131677140,
          126680278,
          42067554,
          1196257,
          11614161,
          200764254,
          224529894,
          41494349,
          172558590,
          65157999,
          6220250,
          131713257,
          358055646,
          18550706,
          441916342,
          49939720,
          110101642,
          122957173,
          58523865,
          198942707,
          365789171,
          62323136,
          145000664,
          97600091,
          42862565,
          35440292,
          196159389,
          185362995,
          135665686,
          17238604,
          29422741,
          50098085,
          70664645,
          38630486,
          36465157,
          66617153,
          123191456,
          172657413,
          104411097,
          44231951,
          25898720,
          120404381,
          45306335,
          64562541,
          43078993,
          36044532,
          95952617,
          99037719,
          52223414,
          127742133,
          130902100,
          335496248,
          153213678,
          10019831,
          7375613,
          211158013,
          141747648,
          115237552,
          267459903,
          92424493,
          97902676,
          102703448,
          36593527,
          148855365,
          225260644,
          142927322,
          172986367,
          15885603,
          36475819,
          140194014,
          139377440,
          121386649,
          5503365,
          98108741,
          49155460,
          101094621,
          58284482,
          65098757,
          248857241,
          255776823,
          370693139,
          19247151,
          56051407,
          71915713,
          21134265,
          119666188,
          31705548,
          58539080,
          90838757,
          164125901,
          35549029,
          38264355,
          80899019,
          125560682,
          33278200,
          126063862,
          189969086,
          87813373,
          57174683,
          199248929,
          92981184,
          39941762,
          381501023,
          180051347,
          31038318,
          176048317,
          68139013,
          231523576,
          35324338,
          59929910,
          209328795,
          218674366,
          59038013,
          234126191,
          160979905,
          315697428,
          23388367,
          485274842,
          285851797,
          42735162,
          52282360
         ],
         "yaxis": "y"
        },
        {
         "hovertemplate": "popularity_bin=%{marker.size}<br>release_year=%{x}<br>spotify_streams=%{y}<extra></extra>",
         "legendgroup": "7",
         "marker": {
          "color": "rgb(230, 131, 16)",
          "opacity": 0.4,
          "size": {
           "bdata": "BwcHBwcHBwcHBwcHBwcHBwcHBwcHBwcHBwcHBwcHBwcHBwcHBwcHBwcHBwcHBwcHBwcHBwcHBwcHBwcHBwcHBwcHBwcHBwcHBwcHBwcHBwcHBwcHBwcHBwcHBwcHBwcHBwcHBwcHBwcHBwcHBwcHBwcHBwcHBwcHBwcHBwcHBwcHBwcHBwcHBwcHBwcHBwcHBwcHBwcHBwcHBwcHBwcHBwcHBwcHBwcHBwcHBwcHBwcHBwcHBwcHBwcHBwcHBwcHBwcHBwcHBwcHBwcHBwcHBwcHBwcHBwcHBwcHBwcHBwcHBwcHBwcHBwcHBwcHBwcHBwcHBwcHBwcHBwcHBwcHBwcHBwcHBwcHBwcHBwcHBwcHBwcHBwcHBwcHBwcHBwcHBwcHBwcHBwcHBwcHBwcHBwcHBwcHBwcHBwcHBwcHBwcHBwcHBwcHBwcHBwcHBwcHBwcHBwcHBwcHBwcHBwcHBwcHBwcHBwcHBwcHBwcHBwcHBwcHBwcHBwcHBwcHBwcHBwcHBwcHBwcHBwcHBwcHBwcHBwcHBwcHBwcHBwcHBwcHBwcHBwcHBwcHBwcHBwcHBwcHBwcHBwcHBwcHBwcHBwcHBwcHBwcHBwcHBwcHBwcHBwcHBwcHBwcHBwcHBwcHBwcHBwcHBwcHBwcHBwcHBwcHBwcHBwcHBwcHBwcHBwcHBwcHBwcHBwcHBwcHBwcHBwcHBwcHBwcHBwcHBwcHBwcHBwcHBwcHBwcHBwcHBwcHBwcHBwcHBwcHBwcHBwcHBwcHBwcHBwcHBwcHBwcHBwcHBwcHBwcHBwcHBwcHBwcHBwcHBwcHBwcHBwcHBwcHBwcHBwcHBwcHBwcHBwcHBwcHBwcHBwcHBwcHBwcHBwcHBwcHBwcHBwcHBwcHBwcHBwcHBwcHBwcHBwcHBwcHBwcHBwcHBwcHBwcHBwcHBwcHBwcHBwcHBwcHBwcHBwcHBwcHBwcHBwcHBwcHBwcHBwcHBwcHBwcHBwcHBwcHBwcHBwcHBwcHBwcHBwcHBwcHBwcHBwcHBwcHBwcHBwcHBwcHBwcHBwcHBwcHBwcHBwcHBwcHBwcHBwcHBwcHBwcHBwcHBwcHBwcHBwcHBwcHBwcHBwcHBwcHBwcHBwcHBwcHBwcHBwcHBwcHBwcHBwcHBwcHBwcHBwcHBwcHBwcHBwcHBwcHBwcHBwcHBwcHBwcHBwcHBwcHBwcHBwcHBwcHBwcHBwcHBwcHBwcHBwcHBwcHBwcHBwcHBwcHBwcHBwcHBwcHBwcHBwcHBwcHBwcHBwcHBwcHBwcHBwcHBwcHBwcHBwcHBwcHBwcHBwcHBwcHBwcHBwcHBwcHBwcHBwcHBwcHBwcHBwcHBwcHBwcHBwcHBwcHBwcHBwcHBwcHBwcHBwcHBwcHBwcHBwcHBwcHBwcHBwcHBwcHBwcHBwcHBwcHBwcHBwcHBwcHBwcHBwcHBwcHBwcHBwcHBwcHBwcHBwcHBwcHBwcHBwcHBwcHBwcHBwcHBwcHBwcHBwcHBwcHBwcHBwcHBwcHBwcHBwcHBwcHBwcHBwcHBwcHBwcHBwcHBwcHBwcHBwcHBwcHBwcHBwcHBwcHBwcHBwcHBwcHBwcHBwcHBwcHBwcHBwcHBwcHBwcHBwcHBw==",
           "dtype": "i1"
          },
          "sizemode": "area",
          "sizeref": 0.025,
          "symbol": "circle"
         },
         "mode": "markers",
         "name": "7",
         "showlegend": true,
         "type": "scattergl",
         "x": {
          "bdata": "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",
          "dtype": "i4"
         },
         "xaxis": "x",
         "y": {
          "bdata": "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",
          "dtype": "i4"
         },
         "yaxis": "y"
        },
        {
         "hovertemplate": "popularity_bin=%{marker.size}<br>release_year=%{x}<br>spotify_streams=%{y}<extra></extra>",
         "legendgroup": "8",
         "marker": {
          "color": "rgb(0, 134, 149)",
          "opacity": 0.4,
          "size": {
           "bdata": "CAgICAgICAgICAgICAgICAgICAgICAgICAgICAgICAgICAgICAgICAgICAgICAgICAgICAgICAgICAgICAgICAgICAgICAgICAgICAgICAgICAgICAgICAgICAgICAgICAgICAgICAgICAgICAgICAgICAgICAgICAgICAgICAgICAgICAgICAgICAgICAgICAgICAgICAgICAgICAgICAgICAgICAgICAgICAgICAgICAgICAgICAgICAgICAgICAgICAgICAgICAgICAgICAgICAgICAgICAgICAgICAgICAgICAgICAgICAgICAgICAgICAgICAgICAgICAgICAgICAgICAgICAgICAgICAgICAgICAgICAgICAgICAgICAgICAgICAgICAgICAgICAgICAgICAgICAgICAgICAgICAgICAgICAgICAgICAgICAgICAgICAgICAgICAgICAgICAgICAgICAgICAgICAgICAgICAgICAgICAgICAgICAgICAgICAgICAgICAgICAgICAgICAgICAgICAgICAgICAgICAgICAgICAgICAgICAgICAgICAgICAgICAgICAgICAgICAgICAgICAgICAgICAgICAgICAgICAgICAgICAgICAgICAgICAgICAgICAgICAgICAgICAgICAgICAgICAgICAgICAgICAgICAgICAgICAgICAgICAgICAgICAgICAgICAgICAgICAgICAgICAgICAgICAgICAgICAgICAgICAgICAgICAgICAgICAgICAgICAgICAgICAgICAgICAgICAgICAgICAgICAgICAgICAgICAgICAgICAgICAgICAgICAgICAgICAgICAgICAgICAgICAgICAgICAgICAgICAgICAgICAgICAgICAgICAgICAgICAgICAgICAgICAgICAgICAgICAgICAgICAgICAgICAgICAgICAgICAgICAgICAgICAgICAgICAgICAgICAgICAgICAgICAgICAgICAgICAgICAgICAgICAgICAgICAgICAgICAgICAgICAgICAgICAgICAgICAgICAgICAgICAgICAgICAgICAgICAgICAgICAgICAgICAgICAgICAgICAgICAgICAgICAgICAgICAgICAgICAgICAgICAgICAgICAgICAgICAgICAgICAgICAgICAgICAgICAgICAgICAgICAgICAgICAgICAgICAgICAgICAgICAgICAgICAgICAgICAgICAgICAgICAgICAgICAgICAgICAgICAgICAgICAgICAgICAgICAgICAgICAgICAgICAgICAgICAgICAgICAgICAgICAgICAgICAgICAgICAgICAgICAgICAgICAgICAgICAgICAgICAgICAgICAgICAgICAgICAgICAgICAgICAgICAgICAgICAgICAgICAgICAgICAgICAgICAgICAgICAgICAgICAgICAgICAgICAgICAgICAgICAgICAgICAgICAgICAgICAgICAgICAgICAgICAgICAgICAgICAgICAgICAgICAgICAgICAgICAgICAgICAgICAgICAgICAgICAgICAgICAgICAgICAgICAgICAgICAgICAgICAgICAgICAgICAgICAgICAgICAgICAgICAgICAgICAgICAgICAgICAgICAgICAgICAgICAgICAgICAgICAgICAgICAgICAgICAgICAgICAgICAgICAgICAgICAgICAgICAgICAgICAgICAgICAgICAgICAgICAgICAgICAgICAgICAgICAgICAgICAgICAgICAgICAg=",
           "dtype": "i1"
          },
          "sizemode": "area",
          "sizeref": 0.025,
          "symbol": "circle"
         },
         "mode": "markers",
         "name": "8",
         "showlegend": true,
         "type": "scattergl",
         "x": {
          "bdata": "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",
          "dtype": "i4"
         },
         "xaxis": "x",
         "y": [
          720822868,
          3071214106,
          304929492,
          1747093405,
          1391688322,
          1556275789,
          584427088,
          946941510,
          1008495696,
          1500499584,
          1215336974,
          1720918065,
          1514239759,
          333202114,
          275349653,
          851085705,
          242070373,
          460156070,
          251153869,
          32942304,
          2014959725,
          787155930,
          292789738,
          818858244,
          1867736006,
          1872577908,
          720720922,
          37157630,
          631955547,
          1612286123,
          1185929926,
          1325725696,
          1754311538,
          1312168384,
          2516804300,
          2738293818,
          1003487432,
          1638836101,
          372423476,
          440364356,
          2072182782,
          827950825,
          1126986320,
          2074721986,
          804925777,
          1125681368,
          2011072164,
          2042792456,
          1128273165,
          1087938471,
          1189335848,
          795960535,
          8078265,
          1033109188,
          31612906,
          706356280,
          518846340,
          1823871908,
          205468104,
          2960046642,
          1353028938,
          1902241314,
          1262308912,
          298853393,
          717849037,
          837576264,
          1062095453,
          1339352060,
          503574147,
          1486929795,
          1993030264,
          853451422,
          1478442472,
          959639297,
          1977947460,
          777064903,
          736469450,
          1656385770,
          347647880,
          1108031580,
          2262490403,
          701558859,
          2529948475,
          1070422470,
          839405565,
          2218531106,
          1293773697,
          1398634184,
          547471596,
          1257974135,
          1733302434,
          1199270601,
          1355971796,
          1528107667,
          214598468,
          647201484,
          684853927,
          665519026,
          785016247,
          812274757,
          1984802459,
          805019111,
          1497511486,
          1119350842,
          337858357,
          390182196,
          1568058093,
          373898429,
          1358105253,
          911797058,
          1020452066,
          1178076856,
          394381902,
          410722289,
          350584176,
          732652170,
          356559943,
          676519766,
          81246715,
          1668741024,
          986132265,
          626010147,
          1606023895,
          1432830108,
          1223329465,
          1178076574,
          759374819,
          1885431727,
          159256689,
          1191635193,
          1349427877,
          54940563,
          1673557134,
          428164381,
          1838092894,
          1527106099,
          35244286,
          253464894,
          1439465700,
          1289186767,
          737097685,
          1927961994,
          179565178,
          32435333,
          568230113,
          412845771,
          66836198,
          1888829482,
          1151629030,
          318567928,
          1615353665,
          274229438,
          955439608,
          155390490,
          334578317,
          434019386,
          731933924,
          1829733410,
          343556188,
          425999315,
          1752826514,
          858059276,
          1379786786,
          136724343,
          2252713547,
          811700245,
          1615152539,
          28543791,
          502781351,
          1502382072,
          1198689895,
          1318254846,
          426341106,
          907346612,
          553783547,
          528420867,
          142945230,
          313693195,
          181784966,
          885756212,
          1878196824,
          912461674,
          1177960398,
          668103212,
          927908363,
          415699405,
          922761340,
          166866092,
          296399608,
          1429277695,
          907821800,
          818199643,
          205555865,
          1156060152,
          668285368,
          1285237951,
          1165842896,
          533416336,
          8757910,
          1053626902,
          395167576,
          573249007,
          226519256,
          2011121774,
          1432473324,
          1729264620,
          1736530084,
          815661095,
          276505971,
          979440925,
          337650898,
          1779046979,
          901486450,
          361219290,
          34996527,
          1128612961,
          1409692678,
          574357002,
          725214939,
          469322271,
          34304595,
          333339751,
          935042457,
          1596770801,
          7269751,
          1920784716,
          289304213,
          923823292,
          467454503,
          1176693861,
          2134271997,
          470659154,
          470340261,
          675591495,
          1452194416,
          323657766,
          1196521179,
          1448173030,
          459712644,
          889098343,
          1006124005,
          962634706,
          1517935273,
          191488217,
          320174752,
          1943842010,
          355203657,
          1680612367,
          1836362703,
          1265080733,
          1349115675,
          1157206056,
          690010618,
          954073526,
          686371118,
          502536183,
          1228556153,
          709850383,
          1602076880,
          168087455,
          1427792654,
          1056939084,
          214352397,
          1269607301,
          226233020,
          245513981,
          1907768690,
          819136167,
          558560568,
          155443055,
          221287566,
          831648193,
          674025091,
          700122551,
          545234876,
          699336080,
          716829483,
          1156191242,
          1030515485,
          978617707,
          675763141,
          1366479990,
          26972053,
          110573724,
          1355539058,
          1816356140,
          218035732,
          1592440653,
          723722454,
          1182373720,
          1532653504,
          624007138,
          647496971,
          1280838046,
          117717973,
          406141247,
          315680664,
          1263989128,
          1369299352,
          1389607643,
          1800254516,
          497832707,
          637836235,
          1411856834,
          817933263,
          725076772,
          1089328286,
          742515730,
          159181956,
          1399521364,
          724772954,
          1105805922,
          844630935,
          1790579305,
          932817713,
          333899135,
          1749088490,
          1013083048,
          184441175,
          377174503,
          1285518117,
          502655066,
          946842175,
          246224964,
          114992281,
          2080878370,
          356685934,
          368256958,
          1747534539,
          213405904,
          819779577,
          131938548,
          544165928,
          89513100,
          497682165,
          949835159,
          711861577,
          21803486,
          1152346128,
          16684393,
          13741023,
          1527159800,
          15557247,
          118490212,
          1549317525,
          603196133,
          415552038,
          196369387,
          1269760706,
          340227841,
          443093379,
          358240136,
          338097605,
          17917738,
          247682011,
          769061748,
          285481590,
          79786203,
          1331371819,
          652559944,
          142512477,
          1055558326,
          1042531612,
          1056929910,
          1474968552,
          150073848,
          641756842,
          786298066,
          19514243,
          1257258072,
          296828933,
          84655991,
          242661037,
          1456894713,
          1060378159,
          118804209,
          539802784,
          1654956613,
          1953403531,
          1394048309,
          582023797,
          721002104,
          20538101,
          2525355904,
          793287638,
          229120157,
          459282058,
          846909112,
          837042727,
          880781313,
          399707517,
          244709550,
          820923123,
          181457783,
          1634403761,
          296648613,
          1184536529,
          1472430869,
          460973352,
          234215735,
          535847791,
          1749353402,
          547114702,
          1104008150,
          701919939,
          861100951,
          65661355,
          871780891,
          1419912461,
          535013440,
          354097795,
          366872354,
          1070685587,
          711138043,
          331419634,
          251442618,
          600073400,
          614497357,
          20630900,
          106290197,
          268383799,
          235472222,
          967029446,
          1110994645,
          418181065,
          234350961,
          13606839,
          13700065,
          1778934858,
          1222228366,
          1306374052,
          562099076,
          300430813,
          831868563,
          1059940209,
          129427492,
          822696809,
          222879686,
          710319373,
          1784308411,
          36145614,
          972005229,
          459480135,
          8053814,
          416361102,
          996942947,
          492509763,
          225556005,
          1550553401,
          22692011,
          100360956,
          368429447,
          426936498,
          325654069,
          1667089416,
          1358424406,
          1422563654,
          150508549,
          684103586,
          962546385,
          568846143,
          703865912,
          472886929,
          401066217,
          228240866,
          511421362,
          29906024,
          315014005,
          503584339,
          8981282,
          36844307,
          1118459427,
          397988770,
          416388749,
          71586678,
          11581454,
          169162533,
          336943720,
          262185115,
          1397975653,
          352955079,
          1056346890,
          1150653471,
          1020435750,
          34621656,
          959313617,
          120595666,
          1599742798,
          572602278,
          154819909,
          654941874,
          1123039235,
          95341415,
          788282679,
          777305444,
          511726944,
          35864342,
          1625307365,
          1662288901,
          308738277,
          930004605,
          1120501187,
          452628341,
          562200390,
          269067890,
          432885913,
          1189579197,
          47364546,
          868744690,
          952635214,
          301396080,
          154018930,
          1425996809,
          1925879064,
          17589316,
          417634388,
          878349171,
          990518773,
          959078765,
          730200775,
          658225560,
          258769609,
          106514756,
          990189999,
          309329645,
          1232502989,
          689939531,
          915772593,
          1162659862,
          329763216,
          444613276,
          809840469,
          325902688,
          1436709386,
          303510160,
          258439807,
          856908437,
          767502068,
          363300065,
          1143172586,
          518293446,
          12367963,
          349522530,
          817199682,
          942637026,
          1503269550,
          1590278292,
          2397109372,
          1624314065,
          159483318,
          497062969,
          499262863,
          495840131,
          551035247,
          357445095,
          459476092,
          133152051,
          656416971,
          784096553,
          84030576,
          736983718,
          763384135,
          128049237,
          207857363,
          142131977,
          137071285,
          360816226,
          163958167,
          218471293,
          91143676,
          613000788,
          1145402792,
          21255074,
          975754682,
          1047154254,
          1034272727,
          389547230,
          950810060,
          413974601,
          542751537,
          1184571362,
          199444237,
          828103564,
          199846893,
          50824333,
          39157273,
          1595514674,
          814264073,
          477620800,
          1311631709,
          1020239582,
          1276685592,
          27120441,
          947763871,
          653352641,
          221406245,
          2098443322,
          323292046,
          427605317,
          884816583,
          2265551950,
          1368497471,
          549824221,
          39026522,
          469278591,
          316447060,
          551090518,
          565296902,
          1461578587,
          242528711,
          1335494972,
          717715448,
          833094374,
          366000029,
          1313274600,
          1656974409,
          717233625,
          789962731,
          188249146,
          139929615,
          1012914789,
          1229109018,
          266623831,
          1340305216,
          84848838,
          233212999,
          45351290,
          179452105,
          912294568,
          62158125,
          919756735,
          190497384,
          50652672,
          149095636,
          738909649,
          8857839,
          173018759,
          1638216382,
          567806129,
          48408512,
          940796773,
          283002053,
          160163510,
          194689239,
          458713465,
          1121107262,
          675082623,
          263851286,
          1036104210,
          173756454,
          847578246,
          1014870547,
          606284550,
          257812063,
          222975417,
          262504588,
          706489684,
          826685494,
          591704263,
          238718077,
          449513936,
          344369903,
          1949596473,
          580054244,
          1206495254,
          170829903,
          225128269,
          189577521,
          1365755853,
          304116211,
          661732009,
          229993968,
          515923885,
          71722674,
          304386086,
          223211332,
          697574595,
          1590659204,
          256121980,
          1273869800,
          595213841,
          371288040,
          175095439,
          780755736,
          168713011,
          20827832,
          20583156,
          184630078,
          594775179,
          808010338,
          178247858,
          150399875,
          1432465000,
          2123458039,
          975281654,
          942092206,
          54141672,
          11576361,
          884616492,
          1320205697,
          491242756,
          519330096,
          884825594,
          1293191157,
          534736940,
          475786302,
          156975001,
          19468909,
          842558786,
          12724701,
          440181206,
          39876490,
          30674267,
          1106264600,
          699374947,
          239288183,
          1120622892,
          863631428,
          1016283394,
          1017438306,
          540382129,
          1224136357,
          442472374,
          636986949,
          582823215,
          818413674,
          385438228,
          44365910,
          512194074,
          132870060,
          930662973,
          28658023,
          76959761,
          193854805,
          503972431,
          614050155,
          500671737,
          46650884,
          885944426,
          243125642,
          706711575,
          88673935,
          970858824,
          457254811,
          515582705,
          777947820,
          402007889,
          289624210,
          139208438,
          167668390,
          542480898,
          137204273,
          159980783,
          478086665,
          125445403,
          127558523,
          534374502,
          516560181,
          682383223,
          761287318,
          1164638213,
          41788648,
          1100392417,
          940914292,
          68372540,
          1225776509,
          1024198691,
          1187784950,
          249576970,
          637055162,
          657768560,
          379462137,
          85967228,
          1144535829,
          141252425,
          290154153,
          23649304,
          893876704,
          31940305,
          869024663,
          318340376,
          124020754,
          58496778,
          935098853,
          320586187,
          267897492,
          426439016,
          133353888,
          71190581,
          13671209,
          769295129,
          436133194,
          1878098512,
          192633758,
          261311116,
          185914923,
          137897920,
          1232373956,
          2086460781,
          21670034,
          293724552,
          438511316,
          365203093,
          1091185920,
          35473387,
          1476217041,
          452881574,
          518477840,
          73316998,
          1157112366,
          949312501,
          1532983094,
          666107710,
          407015049,
          560774282,
          462055272,
          1430439855,
          622690472,
          618671056,
          2194935773,
          844790027,
          69972816,
          509445605,
          596905923,
          10557337,
          1125407888,
          546219103,
          1327093253,
          189588270,
          1465918510,
          249199925,
          426904285,
          475549122,
          1303452422,
          457933102,
          415357981,
          144801283,
          79621215,
          2544489950,
          1046848265,
          751508028,
          105178211,
          970219741,
          1322385342,
          100186243,
          100397677,
          778846570,
          522143496,
          296674882,
          157476564,
          784334383,
          492542256,
          1284096603,
          210072827,
          335203899,
          1367265268,
          191465461,
          683247723,
          15290073,
          178441881,
          9428361,
          152289860,
          383171089,
          91124161,
          137276005,
          1405772026,
          1274848626,
          106759874,
          455718141,
          915557792,
          378668802,
          763292840,
          860596912,
          853574945,
          51862502,
          930343185,
          164667038,
          949651805,
          671310199,
          327311508,
          610838644,
          822935346,
          29089538,
          641453269,
          917916061,
          200017368,
          254191262,
          1879966374,
          1070923216,
          517990518,
          53590796,
          317252487,
          965827790,
          227893586,
          227893586,
          1214862854,
          523416171,
          387513964,
          510138748,
          599547543,
          573785235,
          22739117,
          895051532,
          261468916,
          727417273,
          669099980,
          540907681,
          97050082,
          918478800,
          44456165,
          445742307,
          687861392,
          451878749,
          350348521,
          217524988,
          418998816,
          16327372,
          391773238,
          24345826,
          639900946,
          359336745,
          188309858,
          247386146,
          275492185,
          1460945792,
          350802342,
          947770190,
          895496661,
          5942861,
          859999247,
          282776356,
          383945607,
          27026914,
          536110386,
          246425341,
          50171337,
          55157600,
          404765225,
          589145587,
          649191183,
          899830382,
          83966111,
          1120187276,
          410639967,
          15062636,
          1099069598,
          843861768,
          1014534913,
          662257934,
          223652808,
          15352061,
          307122295,
          247056218,
          410783411,
          897794289,
          1050246077,
          1007623089,
          181695722,
          281707091,
          675984633,
          965899534,
          1081039358,
          370988405,
          272051636,
          475820416,
          123627077,
          233573513,
          398942581,
          1587114096,
          1244864869,
          245384123,
          806728296,
          1687683940,
          152546936,
          413743535,
          658208129,
          631152992,
          1351515181,
          612159812,
          72773866,
          402771910,
          503296417,
          955547971,
          676690653,
          500508660,
          317919778,
          112629182,
          964058806,
          788403596,
          456241170,
          793528511,
          71320813,
          814272136,
          50498801,
          25813787,
          547304707,
          839642356,
          1254883107,
          1423655688,
          253890110,
          75979813,
          503904686,
          1006734157,
          423439672,
          212911684,
          123058600,
          767661283,
          806817589,
          34926866,
          91200208,
          30812151,
          9244547,
          395739041,
          778269101,
          1623436416,
          989672356,
          537163250,
          166436749,
          269363579,
          578464780,
          1291954163,
          209635991,
          899431434,
          987770768,
          1436087930,
          136778408,
          1336196012,
          1015965940,
          370800055,
          697834321,
          136709117,
          987061577,
          1125333823,
          609716786,
          1318596835,
          709560621,
          68705759,
          230129740,
          728920951,
          21488710,
          384965888,
          18800716,
          13092462,
          305830522,
          606603985,
          1081517243,
          356603747,
          192439879,
          521328627,
          886640358,
          548333714,
          331332225,
          968235402,
          14289955,
          946043494,
          834795353,
          886077008,
          502585349,
          827079737,
          20661452,
          862685616,
          29604808,
          662305046,
          45545495,
          693552475,
          69340146,
          522954525,
          127806442,
          201021118,
          107659341,
          342075557,
          516198914,
          924784325,
          13528794,
          49161062,
          43428134,
          240912994,
          159880836,
          13407929,
          718032755,
          717202437,
          934248345,
          1057114779,
          86564714,
          197477305,
          47329404,
          563826995,
          371463000,
          803286487,
          999525686,
          439281048,
          826593536,
          553360461,
          331749982,
          52602574,
          433309786,
          107592134,
          1531490541,
          38159739,
          1445950326,
          842749499,
          306952759,
          241293946,
          283406755,
          1216966135,
          1313545266,
          526007719,
          705672746,
          1050676021,
          33867992,
          1346174222,
          1188567787,
          437825141,
          731646994,
          49756092,
          526083566,
          941989512,
          13194395,
          223785164,
          183162195,
          350427750,
          2502925593,
          204730798,
          222400657,
          31438986,
          589832336,
          157676395,
          1779760815,
          84131713,
          786839663,
          613120952,
          503915156,
          678928131,
          54065563,
          252681087,
          219619875,
          145323071,
          657268053,
          12875105,
          840041803,
          1285242562,
          30160112,
          21255642,
          9327924,
          1535595924,
          404872050,
          597718233,
          981323727,
          809537829,
          18919068,
          426104353,
          56695409,
          320296093,
          362756358,
          16883730,
          209167955,
          126698724,
          1134470968,
          743015700,
          625999943,
          348372811,
          508914869,
          216252006,
          841183589,
          25134764,
          185817317,
          569767392,
          622498643,
          165916276,
          524463179,
          349849639,
          654828389,
          923637058,
          259288333,
          52510463,
          609984789,
          1060255231,
          135976140,
          457252350,
          360149048,
          8104357,
          324327622,
          261905370,
          358885100,
          973400151,
          10114922,
          190095480,
          2252713547,
          1044358962,
          733931275,
          732118596,
          155454907,
          94305899,
          654965766,
          587555589,
          156047755,
          41479958,
          26222603,
          1135588382,
          757789027,
          757522352,
          22463244,
          77975794,
          562983225,
          325264193,
          354643707,
          752708868,
          538918222,
          971172980,
          785139012,
          646295324,
          382565051,
          27813921,
          122568479,
          306652166,
          1062571821,
          296543065,
          597923434,
          549699659,
          383570519,
          248202976,
          34233316,
          621596476,
          1074175360,
          1583012380,
          845222205,
          917284463,
          15333864,
          13842105,
          1431126152,
          617991511,
          35185414,
          447997798,
          23061213,
          818926915,
          154127881,
          109868838,
          982399328,
          54477192,
          954807024,
          335212411,
          810044838,
          428290193,
          409608018,
          153478699,
          658966178,
          957810500,
          253540909,
          332741927,
          8033479,
          14500608,
          13330547,
          34042262,
          686323132,
          541018402,
          285889664,
          595564275,
          33845527,
          315336758,
          46945798,
          40072883,
          1088889743,
          13060347,
          25974901,
          223617742,
          24176156,
          404692736,
          740409304,
          1135209969,
          400479389,
          537523729,
          964765127,
          630863087,
          31380070,
          407701213,
          426609723,
          797648369,
          162889846,
          255973824,
          240686521,
          161990851,
          269671235,
          662971898,
          596164214,
          113567783,
          1068023888,
          486647778,
          63563583,
          12589295,
          640099263,
          520418822,
          680431508,
          433429705,
          293017219,
          699439249,
          265040914,
          387094388,
          52585215,
          19104053,
          318061543,
          166942258,
          1052473730,
          46082088,
          283455095,
          116625807,
          35384383,
          439395056,
          33677357,
          178339925,
          164856432,
          199953495,
          64143264,
          55080421,
          825465124,
          410897040,
          582549538,
          1069960318,
          363510259,
          433074753,
          948562412,
          1021647566,
          687212492,
          624262344,
          442614126,
          28452972,
          556176640,
          350440369,
          179176296,
          817054014,
          1483572312,
          1556326643,
          584357975,
          60355607,
          460008347,
          495063827,
          129531779,
          676325288,
          68965021,
          291244404,
          968810827,
          493444344,
          342872540,
          728140057,
          129635815,
          601202311,
          44619695,
          101903591,
          399145178,
          1145882592,
          13289346,
          1074583619,
          836267192,
          140228805,
          669703929,
          563467499,
          500565437,
          216298810,
          73821370,
          646744185,
          417168757,
          587054803,
          597591280,
          563680273,
          785571181,
          1070374387,
          531877344,
          803983295,
          662057533,
          855080751,
          404073512,
          333792226,
          285039741,
          14349985,
          365062854,
          112162450,
          2021910364,
          162085685,
          464203349,
          680707791,
          148341816,
          1064927546,
          108748134,
          1088273121,
          583209382,
          122999909,
          377242486,
          472408276,
          305049963
         ],
         "yaxis": "y"
        },
        {
         "hovertemplate": "popularity_bin=%{marker.size}<br>release_year=%{x}<br>spotify_streams=%{y}<extra></extra>",
         "legendgroup": "9",
         "marker": {
          "color": "rgb(207, 28, 144)",
          "opacity": 0.4,
          "size": {
           "bdata": "CQkJCQkJCQkJCQkJCQkJCQkJCQkJCQkJCQkJCQkJCQkJCQkJCQkJCQkJCQkJCQkJCQkJCQkJCQkJCQkJCQkJCQkJCQkJCQkJCQkJCQkJCQkJCQkJCQkJCQkJCQkJCQkJCQkJCQkJCQkJCQkJCQkJCQkJCQkJCQkJCQkJCQkJCQkJCQkJCQkJCQkJCQkJCQkJCQkJCQkJCQkJCQkJCQkJCQkJCQkJCQkJCQkJCQkJCQkJCQkJCQkJCQkJCQkJCQkJCQkJCQkJCQkJCQkJCQkJCQkJCQkJCQkJCQkJCQkJCQkJCQkJCQkJCQkJCQkJCQkJCQkJCQkJCQkJCQkJCQkJCQkJCQkJCQkJCQkJCQkJCQkJCQkJCQkJCQkJCQkJCQkJCQkJCQkJCQkJCQkJCQkJCQkJCQkJCQkJCQkJCQkJCQkJCQkJCQkJCQkJCQkJCQkJCQkJCQkJCQkJCQkJCQkJCQkJCQkJCQkJCQkJCQkJCQkJCQkJCQ==",
           "dtype": "i1"
          },
          "sizemode": "area",
          "sizeref": 0.025,
          "symbol": "circle"
         },
         "mode": "markers",
         "name": "9",
         "showlegend": true,
         "type": "scattergl",
         "x": {
          "bdata": "5wcAAOcHAADoBwAA6AcAAOcHAADoBwAA5wcAAOgHAADlBwAA6AcAAOcHAADnBwAA5wcAAOYHAADnBwAA5wcAAOgHAADnBwAA6AcAAOEHAADjBwAA5gcAAOgHAADmBwAA6AcAAOYHAADnBwAA5AcAAOcHAADnBwAA4QcAAOcHAADnBwAA5gcAAOYHAADoBwAA5wcAAOYHAADnBwAA5wcAAOcHAADoBwAA4wcAAOgHAADnBwAA6AcAAOIHAADhBwAA5wcAAOcHAADmBwAA5wcAAOIHAADoBwAA5gcAAOMHAADiBwAA6AcAAOgHAADnBwAA5wcAAOgHAADnBwAA5QcAAOcHAADjBwAA5wcAAOAHAADnBwAA5wcAAOYHAADnBwAA6AcAAOYHAADmBwAA5wcAAOgHAADnBwAA4gcAAOEHAADnBwAA5wcAAOUHAADlBwAA6AcAAOYHAADoBwAA5gcAAOMHAADoBwAA3wcAAOAHAADfBwAA6AcAAOYHAADhBwAA5wcAAOcHAADlBwAA5wcAAOgHAADgBwAA5wcAAOcHAADmBwAA6AcAAOgHAADhBwAA5wcAAOUHAADmBwAA6AcAAOgHAADnBwAA6AcAAOUHAADoBwAA5AcAAOUHAADgBwAA4AcAAN8HAADoBwAA5wcAAOcHAADlBwAA4AcAAOEHAADnBwAA4wcAAOcHAADoBwAA5gcAAN0HAADnBwAA4wcAAOMHAADoBwAA6AcAAOEHAADoBwAA4AcAAOEHAADoBwAA3wcAAN8HAADmBwAA5wcAAOAHAADmBwAA6AcAAN8HAADcBwAA5gcAAOcHAADoBwAA6AcAAOgHAADgBwAA4gcAAN8HAADoBwAA5QcAAOUHAADgBwAA4wcAAOQHAADhBwAA5wcAAOAHAADkBwAA4gcAAOgHAADnBwAA6AcAAOcHAADmBwAA5gcAAOcHAADoBwAA5wcAAOcHAADoBwAA6AcAAOcHAADiBwAA6AcAAOIHAADaBwAA3AcAAOgHAADmBwAA5wcAAOcHAADoBwAA6AcAAOcHAADlBwAA3AcAAOgHAADdBwAA6AcAAOIHAADoBwAA6AcAAN4HAADeBwAA6AcAAOYHAADoBwAA6AcAAOUHAADfBwAA5wcAAOgHAADfBwAA4QcAAOgHAADnBwAA5gcAAOQHAADoBwAA5wcAAN8HAADaBwAA5gcAAOUHAADcBwAA6AcAAOgHAADoBwAA6AcAAOgHAADoBwAA5wcAAN0HAADfBwAA6AcAAOcHAADoBwAA5AcAAN0HAADiBwAA5wcAAOcHAADhBwAA6AcAAOcHAADmBwAA5wcAAOgHAADnBwAA6AcAAOQHAADhBwAA2gcAANsHAADjBwAA4QcAANsHAADnBwAA5wcAAOcHAADoBwAA5QcAANwHAADjBwAA3AcAAOEHAADfBwAA6AcAANsHAADnBwAA2wcAAOgHAADoBwAA6AcAANAHAADdBwAA6AcAANwHAADZBwAA6AcAAOgHAADfBwAA2QcAAOgHAADgBwAA6AcAAOgHAADoBwAA2wcAAOQHAADnBwAA5wcAANQHAADhBwAA3gcAAOgHAADnBwAA6AcAAN4HAADVBwAA4QcAANwHAADaBwAA4QcAAN4HAADnBwAA3AcAAOgHAADTBwAA4QcAAOcHAADdBwAA2wcAAOgHAADfBwAA1QcAAOAHAADSBwAA2AcAAOcHAADQBwAA6AcAAOIHAADjBwAA5wcAAN0HAADkBwAA2AcAAOUHAADSBwAA4gcAANQHAADWBwAA3gcAANYHAADoBwAA4gcAAOgHAADVBwAA3QcAAN0HAADdBwAA6AcAAN8HAADoBwAAzwcAAN4HAADhBwAA3AcAAOcHAADDBwAA0wcAANQHAADgBwAA1wcAAOMHAADTBwAA6AcAANoHAADjBwAA6AcAANwHAADcBwAA5gcAANkHAADiBwAA0gcAAOcHAADbBwAA1wcAAA==",
          "dtype": "i4"
         },
         "xaxis": "x",
         "y": [
          2031280633,
          670665438,
          900158751,
          90676573,
          925655569,
          91272461,
          1065399331,
          426700979,
          3107100349,
          124893397,
          670376179,
          750154960,
          759998727,
          1658229422,
          1126820069,
          997702304,
          59314441,
          493627071,
          168434320,
          3909458734,
          4281468720,
          1337619917,
          69729033,
          1811990630,
          466887055,
          1873746537,
          891720245,
          2996181078,
          692512930,
          1024381758,
          2969999682,
          860026452,
          1032225805,
          1563224246,
          1692951462,
          255076355,
          649404552,
          1013350808,
          359803580,
          609699748,
          478150858,
          205206688,
          1911559785,
          168145583,
          518988585,
          247399972,
          3358704125,
          3006226762,
          532605345,
          659010786,
          1607421145,
          438796949,
          3427498835,
          114574238,
          1721045197,
          2607121959,
          2548389305,
          77757035,
          72335127,
          1673557134,
          922010059,
          532012790,
          850810162,
          2167768056,
          630373315,
          2481391466,
          474590289,
          2880536961,
          689181455,
          606124553,
          1227475431,
          571366508,
          89362910,
          1421763497,
          971473231,
          872148396,
          222354971,
          361517395,
          2447973078,
          2384768901,
          721002940,
          684204777,
          1606950381,
          2184754018,
          33595707,
          1042311849,
          158131138,
          665716137,
          2708151499,
          172164034,
          1891920348,
          3291262413,
          2089476497,
          250430303,
          682837690,
          2596644721,
          521116293,
          403132906,
          1586830204,
          598006591,
          202667139,
          1777196966,
          462284590,
          509231024,
          1136504636,
          60240739,
          51198446,
          1615274494,
          675865902,
          890752779,
          965865213,
          29458027,
          84575291,
          406319778,
          272838329,
          1606975517,
          162165853,
          1995511952,
          1321878145,
          1746790923,
          2075459887,
          2306740926,
          77212437,
          642548537,
          180784576,
          1021480638,
          2147028486,
          1601293263,
          367399860,
          1249760413,
          121497542,
          45287928,
          637325281,
          2325017580,
          232417498,
          1670164200,
          1625149693,
          118631919,
          51390127,
          2065697126,
          141803939,
          2830962669,
          2226869580,
          284119669,
          1859886400,
          1916203330,
          891578597,
          629102459,
          2164074552,
          944833760,
          78227549,
          2313532702,
          2382407025,
          644437397,
          205050873,
          26891849,
          210385853,
          33661899,
          3192204066,
          1442703001,
          2423583406,
          188154454,
          717226454,
          1564979439,
          2396737761,
          1706325903,
          1456635235,
          2061017397,
          178413226,
          2043626431,
          1099019265,
          1780889877,
          74533081,
          513353284,
          111170278,
          198043685,
          1039482815,
          548724288,
          488979989,
          126619484,
          363816146,
          212122034,
          128833634,
          175336290,
          279667395,
          1709991997,
          66101468,
          1845938685,
          1532052160,
          2916412507,
          92517121,
          652949750,
          230291754,
          178950943,
          75894056,
          58469975,
          200151839,
          806918358,
          2270796677,
          166168092,
          2466006842,
          109149345,
          1244981489,
          123802404,
          33245898,
          1497564072,
          2235160830,
          123243341,
          1020452066,
          41924126,
          175613480,
          1133535049,
          2178606166,
          155648648,
          38139811,
          1156342373,
          1388024799,
          56282981,
          310562790,
          561645790,
          614603953,
          35980441,
          271566931,
          1724766252,
          1791778314,
          817286460,
          812954133,
          1828026153,
          59546208,
          161916445,
          63142772,
          206001461,
          196612187,
          25593926,
          219995278,
          2541833602,
          2097181065,
          50955386,
          183146334,
          165611453,
          1675083208,
          2544489950,
          1638529683,
          202633616,
          1165398518,
          1506766477,
          57562320,
          266560481,
          422186660,
          226576178,
          44991905,
          626153696,
          42032763,
          1307283069,
          1610423351,
          2099862852,
          1265397717,
          1413268808,
          1362614026,
          1690450389,
          276026602,
          111155129,
          221575551,
          31366703,
          1058390692,
          2004657631,
          789418331,
          1301573727,
          1305189811,
          1644031037,
          21644029,
          1780761618,
          188142444,
          1128783268,
          62552825,
          81942319,
          92573075,
          2045512421,
          2188592950,
          56343820,
          2444335468,
          1477150302,
          99946842,
          81694468,
          1086861259,
          1164166623,
          51637997,
          1480311407,
          41517704,
          31453044,
          100182006,
          1655539775,
          864865822,
          190634973,
          366169549,
          1307469137,
          1343672718,
          1676528402,
          52925522,
          145332157,
          216386557,
          1548151634,
          1631152967,
          807802864,
          1286089822,
          1335928309,
          1561518107,
          1410353130,
          266127900,
          1438795892,
          81775807,
          1720830668,
          1315024190,
          283079113,
          1256488099,
          1442872605,
          41114784,
          1435372572,
          2102223775,
          1299650856,
          1958809069,
          1315577954,
          145975016,
          1798020679,
          73192291,
          572628080,
          977870118,
          238841927,
          1687828519,
          1101296591,
          1427050913,
          476476352,
          2146682342,
          915401494,
          2174022106,
          1194124781,
          1490987063,
          1023825031,
          66225764,
          995463505,
          95980260,
          1407382497,
          2185240293,
          1275036167,
          1142061871,
          29683046,
          1429205245,
          18634348,
          1405353677,
          1283683926,
          1356969354,
          1350428257,
          159876075,
          1879386440,
          1129346989,
          1680919413,
          1102322992,
          1660504577,
          836491531,
          1657866786,
          28870396,
          1085436198,
          499764238,
          58823260,
          694094195,
          2106040891,
          307125680,
          1204914998,
          595930584,
          1903413912,
          367151355,
          991382346,
          858734232
         ],
         "yaxis": "y"
        },
        {
         "hovertemplate": "popularity_bin=%{marker.size}<br>release_year=%{x}<br>spotify_streams=%{y}<extra></extra>",
         "legendgroup": "10",
         "marker": {
          "color": "rgb(249, 123, 114)",
          "opacity": 0.4,
          "size": {
           "bdata": "CgoKCgoKCgoKCgoKCgoKCgoKCgoKCgoKCgoKCgoK",
           "dtype": "i1"
          },
          "sizemode": "area",
          "sizeref": 0.025,
          "symbol": "circle"
         },
         "mode": "markers",
         "name": "10",
         "showlegend": true,
         "type": "scattergl",
         "x": {
          "bdata": "6AcAAOgHAADoBwAA6AcAAOgHAADoBwAA6AcAAOgHAADoBwAA5wcAAOYHAADoBwAA6AcAAOgHAADnBwAA6AcAAOgHAADoBwAA6AcAAOgHAADnBwAA6AcAAOgHAADjBwAA6AcAAOgHAADmBwAA6AcAAOUHAADoBwAA",
          "dtype": "i4"
         },
         "xaxis": "x",
         "y": [
          390470936,
          323703884,
          601309283,
          107034922,
          675079153,
          250080413,
          221636195,
          355186436,
          395433400,
          1258569694,
          3301814535,
          547882871,
          591068364,
          311928522,
          775135157,
          214237645,
          169410711,
          343090427,
          106599323,
          207093873,
          273023490,
          100838516,
          176290078,
          2188247133,
          233969547,
          167431139,
          710784872,
          58810212,
          939627795,
          97601615
         ],
         "yaxis": "y"
        }
       ],
       "layout": {
        "legend": {
         "itemsizing": "constant",
         "title": {
          "text": "Popularidad"
         },
         "tracegroupgap": 0
        },
        "template": {
         "data": {
          "bar": [
           {
            "error_x": {
             "color": "#2a3f5f"
            },
            "error_y": {
             "color": "#2a3f5f"
            },
            "marker": {
             "line": {
              "color": "#E5ECF6",
              "width": 0.5
             },
             "pattern": {
              "fillmode": "overlay",
              "size": 10,
              "solidity": 0.2
             }
            },
            "type": "bar"
           }
          ],
          "barpolar": [
           {
            "marker": {
             "line": {
              "color": "#E5ECF6",
              "width": 0.5
             },
             "pattern": {
              "fillmode": "overlay",
              "size": 10,
              "solidity": 0.2
             }
            },
            "type": "barpolar"
           }
          ],
          "carpet": [
           {
            "aaxis": {
             "endlinecolor": "#2a3f5f",
             "gridcolor": "white",
             "linecolor": "white",
             "minorgridcolor": "white",
             "startlinecolor": "#2a3f5f"
            },
            "baxis": {
             "endlinecolor": "#2a3f5f",
             "gridcolor": "white",
             "linecolor": "white",
             "minorgridcolor": "white",
             "startlinecolor": "#2a3f5f"
            },
            "type": "carpet"
           }
          ],
          "choropleth": [
           {
            "colorbar": {
             "outlinewidth": 0,
             "ticks": ""
            },
            "type": "choropleth"
           }
          ],
          "contour": [
           {
            "colorbar": {
             "outlinewidth": 0,
             "ticks": ""
            },
            "colorscale": [
             [
              0,
              "#0d0887"
             ],
             [
              0.1111111111111111,
              "#46039f"
             ],
             [
              0.2222222222222222,
              "#7201a8"
             ],
             [
              0.3333333333333333,
              "#9c179e"
             ],
             [
              0.4444444444444444,
              "#bd3786"
             ],
             [
              0.5555555555555556,
              "#d8576b"
             ],
             [
              0.6666666666666666,
              "#ed7953"
             ],
             [
              0.7777777777777778,
              "#fb9f3a"
             ],
             [
              0.8888888888888888,
              "#fdca26"
             ],
             [
              1,
              "#f0f921"
             ]
            ],
            "type": "contour"
           }
          ],
          "contourcarpet": [
           {
            "colorbar": {
             "outlinewidth": 0,
             "ticks": ""
            },
            "type": "contourcarpet"
           }
          ],
          "heatmap": [
           {
            "colorbar": {
             "outlinewidth": 0,
             "ticks": ""
            },
            "colorscale": [
             [
              0,
              "#0d0887"
             ],
             [
              0.1111111111111111,
              "#46039f"
             ],
             [
              0.2222222222222222,
              "#7201a8"
             ],
             [
              0.3333333333333333,
              "#9c179e"
             ],
             [
              0.4444444444444444,
              "#bd3786"
             ],
             [
              0.5555555555555556,
              "#d8576b"
             ],
             [
              0.6666666666666666,
              "#ed7953"
             ],
             [
              0.7777777777777778,
              "#fb9f3a"
             ],
             [
              0.8888888888888888,
              "#fdca26"
             ],
             [
              1,
              "#f0f921"
             ]
            ],
            "type": "heatmap"
           }
          ],
          "histogram": [
           {
            "marker": {
             "pattern": {
              "fillmode": "overlay",
              "size": 10,
              "solidity": 0.2
             }
            },
            "type": "histogram"
           }
          ],
          "histogram2d": [
           {
            "colorbar": {
             "outlinewidth": 0,
             "ticks": ""
            },
            "colorscale": [
             [
              0,
              "#0d0887"
             ],
             [
              0.1111111111111111,
              "#46039f"
             ],
             [
              0.2222222222222222,
              "#7201a8"
             ],
             [
              0.3333333333333333,
              "#9c179e"
             ],
             [
              0.4444444444444444,
              "#bd3786"
             ],
             [
              0.5555555555555556,
              "#d8576b"
             ],
             [
              0.6666666666666666,
              "#ed7953"
             ],
             [
              0.7777777777777778,
              "#fb9f3a"
             ],
             [
              0.8888888888888888,
              "#fdca26"
             ],
             [
              1,
              "#f0f921"
             ]
            ],
            "type": "histogram2d"
           }
          ],
          "histogram2dcontour": [
           {
            "colorbar": {
             "outlinewidth": 0,
             "ticks": ""
            },
            "colorscale": [
             [
              0,
              "#0d0887"
             ],
             [
              0.1111111111111111,
              "#46039f"
             ],
             [
              0.2222222222222222,
              "#7201a8"
             ],
             [
              0.3333333333333333,
              "#9c179e"
             ],
             [
              0.4444444444444444,
              "#bd3786"
             ],
             [
              0.5555555555555556,
              "#d8576b"
             ],
             [
              0.6666666666666666,
              "#ed7953"
             ],
             [
              0.7777777777777778,
              "#fb9f3a"
             ],
             [
              0.8888888888888888,
              "#fdca26"
             ],
             [
              1,
              "#f0f921"
             ]
            ],
            "type": "histogram2dcontour"
           }
          ],
          "mesh3d": [
           {
            "colorbar": {
             "outlinewidth": 0,
             "ticks": ""
            },
            "type": "mesh3d"
           }
          ],
          "parcoords": [
           {
            "line": {
             "colorbar": {
              "outlinewidth": 0,
              "ticks": ""
             }
            },
            "type": "parcoords"
           }
          ],
          "pie": [
           {
            "automargin": true,
            "type": "pie"
           }
          ],
          "scatter": [
           {
            "fillpattern": {
             "fillmode": "overlay",
             "size": 10,
             "solidity": 0.2
            },
            "type": "scatter"
           }
          ],
          "scatter3d": [
           {
            "line": {
             "colorbar": {
              "outlinewidth": 0,
              "ticks": ""
             }
            },
            "marker": {
             "colorbar": {
              "outlinewidth": 0,
              "ticks": ""
             }
            },
            "type": "scatter3d"
           }
          ],
          "scattercarpet": [
           {
            "marker": {
             "colorbar": {
              "outlinewidth": 0,
              "ticks": ""
             }
            },
            "type": "scattercarpet"
           }
          ],
          "scattergeo": [
           {
            "marker": {
             "colorbar": {
              "outlinewidth": 0,
              "ticks": ""
             }
            },
            "type": "scattergeo"
           }
          ],
          "scattergl": [
           {
            "marker": {
             "colorbar": {
              "outlinewidth": 0,
              "ticks": ""
             }
            },
            "type": "scattergl"
           }
          ],
          "scattermap": [
           {
            "marker": {
             "colorbar": {
              "outlinewidth": 0,
              "ticks": ""
             }
            },
            "type": "scattermap"
           }
          ],
          "scattermapbox": [
           {
            "marker": {
             "colorbar": {
              "outlinewidth": 0,
              "ticks": ""
             }
            },
            "type": "scattermapbox"
           }
          ],
          "scatterpolar": [
           {
            "marker": {
             "colorbar": {
              "outlinewidth": 0,
              "ticks": ""
             }
            },
            "type": "scatterpolar"
           }
          ],
          "scatterpolargl": [
           {
            "marker": {
             "colorbar": {
              "outlinewidth": 0,
              "ticks": ""
             }
            },
            "type": "scatterpolargl"
           }
          ],
          "scatterternary": [
           {
            "marker": {
             "colorbar": {
              "outlinewidth": 0,
              "ticks": ""
             }
            },
            "type": "scatterternary"
           }
          ],
          "surface": [
           {
            "colorbar": {
             "outlinewidth": 0,
             "ticks": ""
            },
            "colorscale": [
             [
              0,
              "#0d0887"
             ],
             [
              0.1111111111111111,
              "#46039f"
             ],
             [
              0.2222222222222222,
              "#7201a8"
             ],
             [
              0.3333333333333333,
              "#9c179e"
             ],
             [
              0.4444444444444444,
              "#bd3786"
             ],
             [
              0.5555555555555556,
              "#d8576b"
             ],
             [
              0.6666666666666666,
              "#ed7953"
             ],
             [
              0.7777777777777778,
              "#fb9f3a"
             ],
             [
              0.8888888888888888,
              "#fdca26"
             ],
             [
              1,
              "#f0f921"
             ]
            ],
            "type": "surface"
           }
          ],
          "table": [
           {
            "cells": {
             "fill": {
              "color": "#EBF0F8"
             },
             "line": {
              "color": "white"
             }
            },
            "header": {
             "fill": {
              "color": "#C8D4E3"
             },
             "line": {
              "color": "white"
             }
            },
            "type": "table"
           }
          ]
         },
         "layout": {
          "annotationdefaults": {
           "arrowcolor": "#2a3f5f",
           "arrowhead": 0,
           "arrowwidth": 1
          },
          "autotypenumbers": "strict",
          "coloraxis": {
           "colorbar": {
            "outlinewidth": 0,
            "ticks": ""
           }
          },
          "colorscale": {
           "diverging": [
            [
             0,
             "#8e0152"
            ],
            [
             0.1,
             "#c51b7d"
            ],
            [
             0.2,
             "#de77ae"
            ],
            [
             0.3,
             "#f1b6da"
            ],
            [
             0.4,
             "#fde0ef"
            ],
            [
             0.5,
             "#f7f7f7"
            ],
            [
             0.6,
             "#e6f5d0"
            ],
            [
             0.7,
             "#b8e186"
            ],
            [
             0.8,
             "#7fbc41"
            ],
            [
             0.9,
             "#4d9221"
            ],
            [
             1,
             "#276419"
            ]
           ],
           "sequential": [
            [
             0,
             "#0d0887"
            ],
            [
             0.1111111111111111,
             "#46039f"
            ],
            [
             0.2222222222222222,
             "#7201a8"
            ],
            [
             0.3333333333333333,
             "#9c179e"
            ],
            [
             0.4444444444444444,
             "#bd3786"
            ],
            [
             0.5555555555555556,
             "#d8576b"
            ],
            [
             0.6666666666666666,
             "#ed7953"
            ],
            [
             0.7777777777777778,
             "#fb9f3a"
            ],
            [
             0.8888888888888888,
             "#fdca26"
            ],
            [
             1,
             "#f0f921"
            ]
           ],
           "sequentialminus": [
            [
             0,
             "#0d0887"
            ],
            [
             0.1111111111111111,
             "#46039f"
            ],
            [
             0.2222222222222222,
             "#7201a8"
            ],
            [
             0.3333333333333333,
             "#9c179e"
            ],
            [
             0.4444444444444444,
             "#bd3786"
            ],
            [
             0.5555555555555556,
             "#d8576b"
            ],
            [
             0.6666666666666666,
             "#ed7953"
            ],
            [
             0.7777777777777778,
             "#fb9f3a"
            ],
            [
             0.8888888888888888,
             "#fdca26"
            ],
            [
             1,
             "#f0f921"
            ]
           ]
          },
          "colorway": [
           "#636efa",
           "#EF553B",
           "#00cc96",
           "#ab63fa",
           "#FFA15A",
           "#19d3f3",
           "#FF6692",
           "#B6E880",
           "#FF97FF",
           "#FECB52"
          ],
          "font": {
           "color": "#2a3f5f"
          },
          "geo": {
           "bgcolor": "white",
           "lakecolor": "white",
           "landcolor": "#E5ECF6",
           "showlakes": true,
           "showland": true,
           "subunitcolor": "white"
          },
          "hoverlabel": {
           "align": "left"
          },
          "hovermode": "closest",
          "mapbox": {
           "style": "light"
          },
          "paper_bgcolor": "white",
          "plot_bgcolor": "#E5ECF6",
          "polar": {
           "angularaxis": {
            "gridcolor": "white",
            "linecolor": "white",
            "ticks": ""
           },
           "bgcolor": "#E5ECF6",
           "radialaxis": {
            "gridcolor": "white",
            "linecolor": "white",
            "ticks": ""
           }
          },
          "scene": {
           "xaxis": {
            "backgroundcolor": "#E5ECF6",
            "gridcolor": "white",
            "gridwidth": 2,
            "linecolor": "white",
            "showbackground": true,
            "ticks": "",
            "zerolinecolor": "white"
           },
           "yaxis": {
            "backgroundcolor": "#E5ECF6",
            "gridcolor": "white",
            "gridwidth": 2,
            "linecolor": "white",
            "showbackground": true,
            "ticks": "",
            "zerolinecolor": "white"
           },
           "zaxis": {
            "backgroundcolor": "#E5ECF6",
            "gridcolor": "white",
            "gridwidth": 2,
            "linecolor": "white",
            "showbackground": true,
            "ticks": "",
            "zerolinecolor": "white"
           }
          },
          "shapedefaults": {
           "line": {
            "color": "#2a3f5f"
           }
          },
          "ternary": {
           "aaxis": {
            "gridcolor": "white",
            "linecolor": "white",
            "ticks": ""
           },
           "baxis": {
            "gridcolor": "white",
            "linecolor": "white",
            "ticks": ""
           },
           "bgcolor": "#E5ECF6",
           "caxis": {
            "gridcolor": "white",
            "linecolor": "white",
            "ticks": ""
           }
          },
          "title": {
           "x": 0.05
          },
          "xaxis": {
           "automargin": true,
           "gridcolor": "white",
           "linecolor": "white",
           "ticks": "",
           "title": {
            "standoff": 15
           },
           "zerolinecolor": "white",
           "zerolinewidth": 2
          },
          "yaxis": {
           "automargin": true,
           "gridcolor": "white",
           "linecolor": "white",
           "ticks": "",
           "title": {
            "standoff": 15
           },
           "zerolinecolor": "white",
           "zerolinewidth": 2
          }
         }
        },
        "title": {
         "text": "Año de Lanzamiento vs Streams en Spotify"
        },
        "xaxis": {
         "anchor": "y",
         "domain": [
          0,
          1
         ],
         "title": {
          "text": "Año de Lanzamiento"
         }
        },
        "yaxis": {
         "anchor": "x",
         "domain": [
          0,
          1
         ],
         "title": {
          "text": "Número de Streams (log)"
         },
         "type": "log"
        }
       }
      }
     },
     "metadata": {},
     "output_type": "display_data"
    }
   ],
   "source": [
    "# Año de lanzamiento vs Streams, muestra si las canciones más viejas todavía dominan, o si lo nuevo escala más rápido.\n",
    "\n",
    "spotify_df['release_year'] = spotify_df['release_date'].dt.year\n",
    "\n",
    "fig = px.scatter(\n",
    "    spotify_df,\n",
    "    x=\"release_year\",\n",
    "    y=\"spotify_streams\",\n",
    "    color=\"popularity_bin\",  # para darle un gradiente de color \n",
    "    size='popularity_bin', # tamaño según \n",
    "    category_orders={'popularity_bin': [1, 2, 3, 4, 5, 6, 7, 8, 9, 10]},\n",
    "    title=\"Año de Lanzamiento vs Streams(log) en Spotify\",\n",
    "    opacity=0.4,\n",
    "    color_discrete_sequence=px.colors.qualitative.Bold\n",
    "\n",
    ")\n",
    "fig.update_layout(\n",
    "    xaxis_title='Año de Lanzamiento',\n",
    "    legend_title=\"Popularidad\"\n",
    ")\n",
    "\n",
    "fig.update_yaxes(type=\"log\", title=\"Número de Streams (log)\")\n",
    "\n",
    "fig.show()"
   ]
  },
  {
   "cell_type": "code",
   "execution_count": 70,
   "id": "d1ff487e",
   "metadata": {},
   "outputs": [
    {
     "data": {
      "application/vnd.plotly.v1+json": {
       "config": {
        "plotlyServerURL": "https://plot.ly"
       },
       "data": [
        {
         "hovertemplate": "Artista=Linkin Park<br>Número de Streams=%{x}<br>Canción=%{y}<extra></extra>",
         "legendgroup": "Linkin Park",
         "marker": {
          "color": "rgb(102, 197, 204)",
          "pattern": {
           "shape": ""
          }
         },
         "name": "Linkin Park",
         "orientation": "h",
         "showlegend": true,
         "textposition": "auto",
         "type": "bar",
         "x": {
          "bdata": "5QrseQPQACk=",
          "dtype": "i4"
         },
         "xaxis": "x",
         "y": [
          "In the End",
          "One Step Closer"
         ],
         "yaxis": "y"
        },
        {
         "hovertemplate": "Artista=MUSIC LAB JPN<br>Número de Streams=%{x}<br>Canción=%{y}<extra></extra>",
         "legendgroup": "MUSIC LAB JPN",
         "marker": {
          "color": "rgb(246, 207, 113)",
          "pattern": {
           "shape": ""
          }
         },
         "name": "MUSIC LAB JPN",
         "orientation": "h",
         "showlegend": true,
         "textposition": "auto",
         "type": "bar",
         "x": {
          "bdata": "Bw6HYg==",
          "dtype": "i4"
         },
         "xaxis": "x",
         "y": [
          "Danza Kuduro - Cover"
         ],
         "yaxis": "y"
        },
        {
         "hovertemplate": "Artista=DJ Laxman<br>Número de Streams=%{x}<br>Canción=%{y}<extra></extra>",
         "legendgroup": "DJ Laxman",
         "marker": {
          "color": "rgb(248, 156, 116)",
          "pattern": {
           "shape": ""
          }
         },
         "name": "DJ Laxman",
         "orientation": "h",
         "showlegend": true,
         "textposition": "auto",
         "type": "bar",
         "x": {
          "bdata": "vT/WUg==",
          "dtype": "i4"
         },
         "xaxis": "x",
         "y": [
          "Calm Down Baby"
         ],
         "yaxis": "y"
        },
        {
         "hovertemplate": "Artista=Ben King<br>Número de Streams=%{x}<br>Canción=%{y}<extra></extra>",
         "legendgroup": "Ben King",
         "marker": {
          "color": "rgb(220, 176, 242)",
          "pattern": {
           "shape": ""
          }
         },
         "name": "Ben King",
         "orientation": "h",
         "showlegend": true,
         "textposition": "auto",
         "type": "bar",
         "x": {
          "bdata": "z+g1QQ==",
          "dtype": "i4"
         },
         "xaxis": "x",
         "y": [
          "Stand by Me"
         ],
         "yaxis": "y"
        },
        {
         "hovertemplate": "Artista=JAY-Z<br>Número de Streams=%{x}<br>Canción=%{y}<extra></extra>",
         "legendgroup": "JAY-Z",
         "marker": {
          "color": "rgb(135, 197, 95)",
          "pattern": {
           "shape": ""
          }
         },
         "name": "JAY-Z",
         "orientation": "h",
         "showlegend": true,
         "textposition": "auto",
         "type": "bar",
         "x": {
          "bdata": "N9vLOw==",
          "dtype": "i4"
         },
         "xaxis": "x",
         "y": [
          "Numb / Encore"
         ],
         "yaxis": "y"
        },
        {
         "hovertemplate": "Artista=Benson Boone<br>Número de Streams=%{x}<br>Canción=%{y}<extra></extra>",
         "legendgroup": "Benson Boone",
         "marker": {
          "color": "rgb(158, 185, 243)",
          "pattern": {
           "shape": ""
          }
         },
         "name": "Benson Boone",
         "orientation": "h",
         "showlegend": true,
         "textposition": "auto",
         "type": "bar",
         "x": {
          "bdata": "H1WnNQ==",
          "dtype": "i4"
         },
         "xaxis": "x",
         "y": [
          "Beautiful Things"
         ],
         "yaxis": "y"
        },
        {
         "hovertemplate": "Artista=The Script<br>Número de Streams=%{x}<br>Canción=%{y}<extra></extra>",
         "legendgroup": "The Script",
         "marker": {
          "color": "rgb(254, 136, 177)",
          "pattern": {
           "shape": ""
          }
         },
         "name": "The Script",
         "orientation": "h",
         "showlegend": true,
         "textposition": "auto",
         "type": "bar",
         "x": {
          "bdata": "m/wyMw==",
          "dtype": "i4"
         },
         "xaxis": "x",
         "y": [
          "Breakeven"
         ],
         "yaxis": "y"
        },
        {
         "hovertemplate": "Artista=ati2x06<br>Número de Streams=%{x}<br>Canción=%{y}<extra></extra>",
         "legendgroup": "ati2x06",
         "marker": {
          "color": "rgb(201, 219, 116)",
          "pattern": {
           "shape": ""
          }
         },
         "name": "ati2x06",
         "orientation": "h",
         "showlegend": true,
         "textposition": "auto",
         "type": "bar",
         "x": {
          "bdata": "M5ZzMg==",
          "dtype": "i4"
         },
         "xaxis": "x",
         "y": [
          "Broccoli"
         ],
         "yaxis": "y"
        },
        {
         "hovertemplate": "Artista=The Weeknd<br>Número de Streams=%{x}<br>Canción=%{y}<extra></extra>",
         "legendgroup": "The Weeknd",
         "marker": {
          "color": "rgb(139, 224, 164)",
          "pattern": {
           "shape": ""
          }
         },
         "name": "The Weeknd",
         "orientation": "h",
         "showlegend": true,
         "textposition": "auto",
         "type": "bar",
         "x": {
          "bdata": "7TNfMA==",
          "dtype": "i4"
         },
         "xaxis": "x",
         "y": [
          "Popular"
         ],
         "yaxis": "y"
        }
       ],
       "layout": {
        "barmode": "relative",
        "legend": {
         "title": {
          "text": "Artista"
         },
         "tracegroupgap": 0
        },
        "template": {
         "data": {
          "bar": [
           {
            "error_x": {
             "color": "#2a3f5f"
            },
            "error_y": {
             "color": "#2a3f5f"
            },
            "marker": {
             "line": {
              "color": "#E5ECF6",
              "width": 0.5
             },
             "pattern": {
              "fillmode": "overlay",
              "size": 10,
              "solidity": 0.2
             }
            },
            "type": "bar"
           }
          ],
          "barpolar": [
           {
            "marker": {
             "line": {
              "color": "#E5ECF6",
              "width": 0.5
             },
             "pattern": {
              "fillmode": "overlay",
              "size": 10,
              "solidity": 0.2
             }
            },
            "type": "barpolar"
           }
          ],
          "carpet": [
           {
            "aaxis": {
             "endlinecolor": "#2a3f5f",
             "gridcolor": "white",
             "linecolor": "white",
             "minorgridcolor": "white",
             "startlinecolor": "#2a3f5f"
            },
            "baxis": {
             "endlinecolor": "#2a3f5f",
             "gridcolor": "white",
             "linecolor": "white",
             "minorgridcolor": "white",
             "startlinecolor": "#2a3f5f"
            },
            "type": "carpet"
           }
          ],
          "choropleth": [
           {
            "colorbar": {
             "outlinewidth": 0,
             "ticks": ""
            },
            "type": "choropleth"
           }
          ],
          "contour": [
           {
            "colorbar": {
             "outlinewidth": 0,
             "ticks": ""
            },
            "colorscale": [
             [
              0,
              "#0d0887"
             ],
             [
              0.1111111111111111,
              "#46039f"
             ],
             [
              0.2222222222222222,
              "#7201a8"
             ],
             [
              0.3333333333333333,
              "#9c179e"
             ],
             [
              0.4444444444444444,
              "#bd3786"
             ],
             [
              0.5555555555555556,
              "#d8576b"
             ],
             [
              0.6666666666666666,
              "#ed7953"
             ],
             [
              0.7777777777777778,
              "#fb9f3a"
             ],
             [
              0.8888888888888888,
              "#fdca26"
             ],
             [
              1,
              "#f0f921"
             ]
            ],
            "type": "contour"
           }
          ],
          "contourcarpet": [
           {
            "colorbar": {
             "outlinewidth": 0,
             "ticks": ""
            },
            "type": "contourcarpet"
           }
          ],
          "heatmap": [
           {
            "colorbar": {
             "outlinewidth": 0,
             "ticks": ""
            },
            "colorscale": [
             [
              0,
              "#0d0887"
             ],
             [
              0.1111111111111111,
              "#46039f"
             ],
             [
              0.2222222222222222,
              "#7201a8"
             ],
             [
              0.3333333333333333,
              "#9c179e"
             ],
             [
              0.4444444444444444,
              "#bd3786"
             ],
             [
              0.5555555555555556,
              "#d8576b"
             ],
             [
              0.6666666666666666,
              "#ed7953"
             ],
             [
              0.7777777777777778,
              "#fb9f3a"
             ],
             [
              0.8888888888888888,
              "#fdca26"
             ],
             [
              1,
              "#f0f921"
             ]
            ],
            "type": "heatmap"
           }
          ],
          "histogram": [
           {
            "marker": {
             "pattern": {
              "fillmode": "overlay",
              "size": 10,
              "solidity": 0.2
             }
            },
            "type": "histogram"
           }
          ],
          "histogram2d": [
           {
            "colorbar": {
             "outlinewidth": 0,
             "ticks": ""
            },
            "colorscale": [
             [
              0,
              "#0d0887"
             ],
             [
              0.1111111111111111,
              "#46039f"
             ],
             [
              0.2222222222222222,
              "#7201a8"
             ],
             [
              0.3333333333333333,
              "#9c179e"
             ],
             [
              0.4444444444444444,
              "#bd3786"
             ],
             [
              0.5555555555555556,
              "#d8576b"
             ],
             [
              0.6666666666666666,
              "#ed7953"
             ],
             [
              0.7777777777777778,
              "#fb9f3a"
             ],
             [
              0.8888888888888888,
              "#fdca26"
             ],
             [
              1,
              "#f0f921"
             ]
            ],
            "type": "histogram2d"
           }
          ],
          "histogram2dcontour": [
           {
            "colorbar": {
             "outlinewidth": 0,
             "ticks": ""
            },
            "colorscale": [
             [
              0,
              "#0d0887"
             ],
             [
              0.1111111111111111,
              "#46039f"
             ],
             [
              0.2222222222222222,
              "#7201a8"
             ],
             [
              0.3333333333333333,
              "#9c179e"
             ],
             [
              0.4444444444444444,
              "#bd3786"
             ],
             [
              0.5555555555555556,
              "#d8576b"
             ],
             [
              0.6666666666666666,
              "#ed7953"
             ],
             [
              0.7777777777777778,
              "#fb9f3a"
             ],
             [
              0.8888888888888888,
              "#fdca26"
             ],
             [
              1,
              "#f0f921"
             ]
            ],
            "type": "histogram2dcontour"
           }
          ],
          "mesh3d": [
           {
            "colorbar": {
             "outlinewidth": 0,
             "ticks": ""
            },
            "type": "mesh3d"
           }
          ],
          "parcoords": [
           {
            "line": {
             "colorbar": {
              "outlinewidth": 0,
              "ticks": ""
             }
            },
            "type": "parcoords"
           }
          ],
          "pie": [
           {
            "automargin": true,
            "type": "pie"
           }
          ],
          "scatter": [
           {
            "fillpattern": {
             "fillmode": "overlay",
             "size": 10,
             "solidity": 0.2
            },
            "type": "scatter"
           }
          ],
          "scatter3d": [
           {
            "line": {
             "colorbar": {
              "outlinewidth": 0,
              "ticks": ""
             }
            },
            "marker": {
             "colorbar": {
              "outlinewidth": 0,
              "ticks": ""
             }
            },
            "type": "scatter3d"
           }
          ],
          "scattercarpet": [
           {
            "marker": {
             "colorbar": {
              "outlinewidth": 0,
              "ticks": ""
             }
            },
            "type": "scattercarpet"
           }
          ],
          "scattergeo": [
           {
            "marker": {
             "colorbar": {
              "outlinewidth": 0,
              "ticks": ""
             }
            },
            "type": "scattergeo"
           }
          ],
          "scattergl": [
           {
            "marker": {
             "colorbar": {
              "outlinewidth": 0,
              "ticks": ""
             }
            },
            "type": "scattergl"
           }
          ],
          "scattermap": [
           {
            "marker": {
             "colorbar": {
              "outlinewidth": 0,
              "ticks": ""
             }
            },
            "type": "scattermap"
           }
          ],
          "scattermapbox": [
           {
            "marker": {
             "colorbar": {
              "outlinewidth": 0,
              "ticks": ""
             }
            },
            "type": "scattermapbox"
           }
          ],
          "scatterpolar": [
           {
            "marker": {
             "colorbar": {
              "outlinewidth": 0,
              "ticks": ""
             }
            },
            "type": "scatterpolar"
           }
          ],
          "scatterpolargl": [
           {
            "marker": {
             "colorbar": {
              "outlinewidth": 0,
              "ticks": ""
             }
            },
            "type": "scatterpolargl"
           }
          ],
          "scatterternary": [
           {
            "marker": {
             "colorbar": {
              "outlinewidth": 0,
              "ticks": ""
             }
            },
            "type": "scatterternary"
           }
          ],
          "surface": [
           {
            "colorbar": {
             "outlinewidth": 0,
             "ticks": ""
            },
            "colorscale": [
             [
              0,
              "#0d0887"
             ],
             [
              0.1111111111111111,
              "#46039f"
             ],
             [
              0.2222222222222222,
              "#7201a8"
             ],
             [
              0.3333333333333333,
              "#9c179e"
             ],
             [
              0.4444444444444444,
              "#bd3786"
             ],
             [
              0.5555555555555556,
              "#d8576b"
             ],
             [
              0.6666666666666666,
              "#ed7953"
             ],
             [
              0.7777777777777778,
              "#fb9f3a"
             ],
             [
              0.8888888888888888,
              "#fdca26"
             ],
             [
              1,
              "#f0f921"
             ]
            ],
            "type": "surface"
           }
          ],
          "table": [
           {
            "cells": {
             "fill": {
              "color": "#EBF0F8"
             },
             "line": {
              "color": "white"
             }
            },
            "header": {
             "fill": {
              "color": "#C8D4E3"
             },
             "line": {
              "color": "white"
             }
            },
            "type": "table"
           }
          ]
         },
         "layout": {
          "annotationdefaults": {
           "arrowcolor": "#2a3f5f",
           "arrowhead": 0,
           "arrowwidth": 1
          },
          "autotypenumbers": "strict",
          "coloraxis": {
           "colorbar": {
            "outlinewidth": 0,
            "ticks": ""
           }
          },
          "colorscale": {
           "diverging": [
            [
             0,
             "#8e0152"
            ],
            [
             0.1,
             "#c51b7d"
            ],
            [
             0.2,
             "#de77ae"
            ],
            [
             0.3,
             "#f1b6da"
            ],
            [
             0.4,
             "#fde0ef"
            ],
            [
             0.5,
             "#f7f7f7"
            ],
            [
             0.6,
             "#e6f5d0"
            ],
            [
             0.7,
             "#b8e186"
            ],
            [
             0.8,
             "#7fbc41"
            ],
            [
             0.9,
             "#4d9221"
            ],
            [
             1,
             "#276419"
            ]
           ],
           "sequential": [
            [
             0,
             "#0d0887"
            ],
            [
             0.1111111111111111,
             "#46039f"
            ],
            [
             0.2222222222222222,
             "#7201a8"
            ],
            [
             0.3333333333333333,
             "#9c179e"
            ],
            [
             0.4444444444444444,
             "#bd3786"
            ],
            [
             0.5555555555555556,
             "#d8576b"
            ],
            [
             0.6666666666666666,
             "#ed7953"
            ],
            [
             0.7777777777777778,
             "#fb9f3a"
            ],
            [
             0.8888888888888888,
             "#fdca26"
            ],
            [
             1,
             "#f0f921"
            ]
           ],
           "sequentialminus": [
            [
             0,
             "#0d0887"
            ],
            [
             0.1111111111111111,
             "#46039f"
            ],
            [
             0.2222222222222222,
             "#7201a8"
            ],
            [
             0.3333333333333333,
             "#9c179e"
            ],
            [
             0.4444444444444444,
             "#bd3786"
            ],
            [
             0.5555555555555556,
             "#d8576b"
            ],
            [
             0.6666666666666666,
             "#ed7953"
            ],
            [
             0.7777777777777778,
             "#fb9f3a"
            ],
            [
             0.8888888888888888,
             "#fdca26"
            ],
            [
             1,
             "#f0f921"
            ]
           ]
          },
          "colorway": [
           "#636efa",
           "#EF553B",
           "#00cc96",
           "#ab63fa",
           "#FFA15A",
           "#19d3f3",
           "#FF6692",
           "#B6E880",
           "#FF97FF",
           "#FECB52"
          ],
          "font": {
           "color": "#2a3f5f"
          },
          "geo": {
           "bgcolor": "white",
           "lakecolor": "white",
           "landcolor": "#E5ECF6",
           "showlakes": true,
           "showland": true,
           "subunitcolor": "white"
          },
          "hoverlabel": {
           "align": "left"
          },
          "hovermode": "closest",
          "mapbox": {
           "style": "light"
          },
          "paper_bgcolor": "white",
          "plot_bgcolor": "#E5ECF6",
          "polar": {
           "angularaxis": {
            "gridcolor": "white",
            "linecolor": "white",
            "ticks": ""
           },
           "bgcolor": "#E5ECF6",
           "radialaxis": {
            "gridcolor": "white",
            "linecolor": "white",
            "ticks": ""
           }
          },
          "scene": {
           "xaxis": {
            "backgroundcolor": "#E5ECF6",
            "gridcolor": "white",
            "gridwidth": 2,
            "linecolor": "white",
            "showbackground": true,
            "ticks": "",
            "zerolinecolor": "white"
           },
           "yaxis": {
            "backgroundcolor": "#E5ECF6",
            "gridcolor": "white",
            "gridwidth": 2,
            "linecolor": "white",
            "showbackground": true,
            "ticks": "",
            "zerolinecolor": "white"
           },
           "zaxis": {
            "backgroundcolor": "#E5ECF6",
            "gridcolor": "white",
            "gridwidth": 2,
            "linecolor": "white",
            "showbackground": true,
            "ticks": "",
            "zerolinecolor": "white"
           }
          },
          "shapedefaults": {
           "line": {
            "color": "#2a3f5f"
           }
          },
          "ternary": {
           "aaxis": {
            "gridcolor": "white",
            "linecolor": "white",
            "ticks": ""
           },
           "baxis": {
            "gridcolor": "white",
            "linecolor": "white",
            "ticks": ""
           },
           "bgcolor": "#E5ECF6",
           "caxis": {
            "gridcolor": "white",
            "linecolor": "white",
            "ticks": ""
           }
          },
          "title": {
           "x": 0.05
          },
          "xaxis": {
           "automargin": true,
           "gridcolor": "white",
           "linecolor": "white",
           "ticks": "",
           "title": {
            "standoff": 15
           },
           "zerolinecolor": "white",
           "zerolinewidth": 2
          },
          "yaxis": {
           "automargin": true,
           "gridcolor": "white",
           "linecolor": "white",
           "ticks": "",
           "title": {
            "standoff": 15
           },
           "zerolinecolor": "white",
           "zerolinewidth": 2
          }
         }
        },
        "title": {
         "text": "Top 10 Canciones Más Escuchadas en 2024"
        },
        "xaxis": {
         "anchor": "y",
         "domain": [
          0,
          1
         ],
         "title": {
          "text": "Número de Streams"
         }
        },
        "yaxis": {
         "anchor": "x",
         "categoryarray": [
          "In the End",
          "Danza Kuduro - Cover",
          "Calm Down Baby",
          "Stand by Me",
          "Numb / Encore",
          "Beautiful Things",
          "Breakeven",
          "Broccoli",
          "Popular",
          "One Step Closer"
         ],
         "categoryorder": "array",
         "domain": [
          0,
          1
         ],
         "title": {
          "text": "Canción"
         }
        }
       }
      }
     },
     "metadata": {},
     "output_type": "display_data"
    }
   ],
   "source": [
    "# Top 10 canciones más escuchadas del 2024\n",
    "top_10_songs = spotify_df[spotify_df['release_year'] == 2024].nlargest(10, 'spotify_streams').sort_values(by='spotify_streams', ascending=False)\n",
    "order = top_10_songs[\"track\"].tolist()\n",
    "top_10_songs[\"track\"] = pd.Categorical(top_10_songs[\"track\"], categories=order, ordered=True)\n",
    "order_rev = order[::-1]\n",
    "# Hacemos la gráfica de barras\n",
    "\n",
    "fig = px.bar(\n",
    "    top_10_songs,\n",
    "    y='track',\n",
    "    x='spotify_streams',\n",
    "    orientation='h',\n",
    "    color='artist',\n",
    "    category_orders={\"track\": order_rev},\n",
    "    title='Top 10 Canciones Más Escuchadas en 2024',\n",
    "    labels={'track': 'Canción', 'spotify_streams': 'Número de Streams', 'artist': 'Artista'},\n",
    "    color_discrete_sequence=px.colors.qualitative.Pastel\n",
    "    )\n",
    "fig.show()\n"
   ]
  }
 ],
 "metadata": {
  "kernelspec": {
   "display_name": "Spotify_Stats.env",
   "language": "python",
   "name": "python3"
  },
  "language_info": {
   "codemirror_mode": {
    "name": "ipython",
    "version": 3
   },
   "file_extension": ".py",
   "mimetype": "text/x-python",
   "name": "python",
   "nbconvert_exporter": "python",
   "pygments_lexer": "ipython3",
   "version": "3.13.5"
  }
 },
 "nbformat": 4,
 "nbformat_minor": 5
}
